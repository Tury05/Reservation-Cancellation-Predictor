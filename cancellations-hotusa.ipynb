{
 "cells": [
  {
   "attachments": {},
   "cell_type": "markdown",
   "metadata": {},
   "source": [
    "# Libreries"
   ]
  },
  {
   "cell_type": "code",
   "execution_count": 1,
   "metadata": {},
   "outputs": [],
   "source": [
    "#!pip install pandas\n",
    "#!pip install seaborn\n",
    "#!pip install matplotlib\n",
    "#!pip install scikit-learn\n",
    "#!pip install imblearn\n",
    "#!pip install xgboost\n",
    "#!pip install lightgbm\n",
    "#!pip install shap"
   ]
  },
  {
   "cell_type": "code",
   "execution_count": 66,
   "metadata": {},
   "outputs": [],
   "source": [
    "####### Dataframe management ######\n",
    "import pandas as pd         \n",
    "import numpy as np\n",
    "\n",
    "####### Visualization ######\n",
    "import seaborn as sns\n",
    "import matplotlib.pyplot as plt\n",
    "\n",
    "####### Encoding ######\n",
    "from sklearn.preprocessing import MinMaxScaler\n",
    "\n",
    "####### Train-Test Split ######\n",
    "from sklearn.model_selection import train_test_split\n",
    "from sklearn.model_selection import cross_val_score\n",
    "\n",
    "####### Resample ######\n",
    "from imblearn.over_sampling import RandomOverSampler\n",
    "\n",
    "####### Models ######\n",
    "from sklearn.linear_model import LogisticRegression\n",
    "from xgboost import XGBClassifier\n",
    "from sklearn.neighbors import KNeighborsClassifier\n",
    "from lightgbm import LGBMClassifier\n",
    "from sklearn.naive_bayes import GaussianNB\n",
    "from sklearn.ensemble import HistGradientBoostingClassifier\n",
    "from sklearn.ensemble import RandomForestClassifier\n",
    "from sklearn.ensemble import GradientBoostingClassifier\n",
    "from sklearn.ensemble import ExtraTreesClassifier\n",
    "from sklearn.ensemble import BaggingClassifier\n",
    "from sklearn.ensemble import AdaBoostClassifier\n",
    "from sklearn.neural_network import MLPClassifier\n",
    "\n",
    "####### Hyperparameter ######\n",
    "from sklearn.model_selection import RandomizedSearchCV\n",
    "\n",
    "####### Metrics ######\n",
    "from sklearn.metrics import accuracy_score, precision_score, recall_score, f1_score\n",
    "from sklearn.metrics import confusion_matrix, ConfusionMatrixDisplay\n",
    "from sklearn.metrics import roc_curve\n",
    "from sklearn.metrics import roc_auc_score\n",
    "\n",
    "####### Interpretability ######\n",
    "import shap\n",
    "\n",
    "import warnings\n",
    "warnings.filterwarnings(\"ignore\")  # Disable warnings\n",
    "\n",
    "import os"
   ]
  },
  {
   "cell_type": "code",
   "execution_count": 3,
   "metadata": {},
   "outputs": [],
   "source": [
    "# plotting style\n",
    "plt.style.use('https://github.com/dhaitz/matplotlib-stylesheets/raw/master/pacoty.mplstyle')"
   ]
  },
  {
   "attachments": {},
   "cell_type": "markdown",
   "metadata": {},
   "source": [
    "# Import data"
   ]
  },
  {
   "cell_type": "code",
   "execution_count": 4,
   "metadata": {},
   "outputs": [],
   "source": [
    "DATA_PATH = \"./data\""
   ]
  },
  {
   "cell_type": "code",
   "execution_count": 5,
   "metadata": {},
   "outputs": [],
   "source": [
    "df = pd.read_csv(os.path.join(DATA_PATH, \"hotusa_cancellations.csv\"), index_col=0)"
   ]
  },
  {
   "cell_type": "code",
   "execution_count": 6,
   "metadata": {},
   "outputs": [
    {
     "data": {
      "text/html": [
       "<div>\n",
       "<style scoped>\n",
       "    .dataframe tbody tr th:only-of-type {\n",
       "        vertical-align: middle;\n",
       "    }\n",
       "\n",
       "    .dataframe tbody tr th {\n",
       "        vertical-align: top;\n",
       "    }\n",
       "\n",
       "    .dataframe thead th {\n",
       "        text-align: right;\n",
       "    }\n",
       "</style>\n",
       "<table border=\"1\" class=\"dataframe\">\n",
       "  <thead>\n",
       "    <tr style=\"text-align: right;\">\n",
       "      <th></th>\n",
       "      <th>HotelId</th>\n",
       "      <th>ReservationStatusDate</th>\n",
       "      <th>ArrivalDate</th>\n",
       "      <th>LeadTime</th>\n",
       "      <th>StaysInWeekendNights</th>\n",
       "      <th>StaysInWeekNights</th>\n",
       "      <th>Adults</th>\n",
       "      <th>Children</th>\n",
       "      <th>CustomerType</th>\n",
       "      <th>ADR</th>\n",
       "      <th>Meal</th>\n",
       "      <th>Country</th>\n",
       "      <th>Company</th>\n",
       "      <th>ReservedRoomType</th>\n",
       "      <th>IsRepeatedGuest</th>\n",
       "      <th>IsCanceled</th>\n",
       "    </tr>\n",
       "  </thead>\n",
       "  <tbody>\n",
       "    <tr>\n",
       "      <th>10043</th>\n",
       "      <td>1</td>\n",
       "      <td>2016-12-15</td>\n",
       "      <td>2017-02-10</td>\n",
       "      <td>238</td>\n",
       "      <td>0</td>\n",
       "      <td>2</td>\n",
       "      <td>2</td>\n",
       "      <td>0</td>\n",
       "      <td>Transient</td>\n",
       "      <td>54.00</td>\n",
       "      <td>HB</td>\n",
       "      <td>PRT</td>\n",
       "      <td>NULL</td>\n",
       "      <td>A</td>\n",
       "      <td>False</td>\n",
       "      <td>True</td>\n",
       "    </tr>\n",
       "    <tr>\n",
       "      <th>19043</th>\n",
       "      <td>1</td>\n",
       "      <td>2015-12-07</td>\n",
       "      <td>2016-05-27</td>\n",
       "      <td>174</td>\n",
       "      <td>2</td>\n",
       "      <td>5</td>\n",
       "      <td>2</td>\n",
       "      <td>1</td>\n",
       "      <td>Transient</td>\n",
       "      <td>108.02</td>\n",
       "      <td>BB</td>\n",
       "      <td>PRT</td>\n",
       "      <td>NULL</td>\n",
       "      <td>F</td>\n",
       "      <td>False</td>\n",
       "      <td>True</td>\n",
       "    </tr>\n",
       "    <tr>\n",
       "      <th>3509</th>\n",
       "      <td>1</td>\n",
       "      <td>2015-08-24</td>\n",
       "      <td>2015-12-20</td>\n",
       "      <td>260</td>\n",
       "      <td>4</td>\n",
       "      <td>9</td>\n",
       "      <td>1</td>\n",
       "      <td>0</td>\n",
       "      <td>Transient</td>\n",
       "      <td>47.54</td>\n",
       "      <td>BB</td>\n",
       "      <td>PRT</td>\n",
       "      <td>NULL</td>\n",
       "      <td>D</td>\n",
       "      <td>False</td>\n",
       "      <td>True</td>\n",
       "    </tr>\n",
       "    <tr>\n",
       "      <th>5012</th>\n",
       "      <td>1</td>\n",
       "      <td>2016-01-05</td>\n",
       "      <td>2016-04-12</td>\n",
       "      <td>168</td>\n",
       "      <td>0</td>\n",
       "      <td>2</td>\n",
       "      <td>2</td>\n",
       "      <td>0</td>\n",
       "      <td>Transient</td>\n",
       "      <td>86.00</td>\n",
       "      <td>HB</td>\n",
       "      <td>PRT</td>\n",
       "      <td>NULL</td>\n",
       "      <td>A</td>\n",
       "      <td>False</td>\n",
       "      <td>True</td>\n",
       "    </tr>\n",
       "    <tr>\n",
       "      <th>17991</th>\n",
       "      <td>1</td>\n",
       "      <td>2015-11-11</td>\n",
       "      <td>2015-11-11</td>\n",
       "      <td>1</td>\n",
       "      <td>0</td>\n",
       "      <td>1</td>\n",
       "      <td>1</td>\n",
       "      <td>0</td>\n",
       "      <td>Transient</td>\n",
       "      <td>35.00</td>\n",
       "      <td>BB</td>\n",
       "      <td>PRT</td>\n",
       "      <td>88</td>\n",
       "      <td>A</td>\n",
       "      <td>True</td>\n",
       "      <td>True</td>\n",
       "    </tr>\n",
       "  </tbody>\n",
       "</table>\n",
       "</div>"
      ],
      "text/plain": [
       "       HotelId ReservationStatusDate ArrivalDate  LeadTime  \\\n",
       "10043        1            2016-12-15  2017-02-10       238   \n",
       "19043        1            2015-12-07  2016-05-27       174   \n",
       "3509         1            2015-08-24  2015-12-20       260   \n",
       "5012         1            2016-01-05  2016-04-12       168   \n",
       "17991        1            2015-11-11  2015-11-11         1   \n",
       "\n",
       "       StaysInWeekendNights  StaysInWeekNights  Adults  Children CustomerType  \\\n",
       "10043                     0                  2       2         0    Transient   \n",
       "19043                     2                  5       2         1    Transient   \n",
       "3509                      4                  9       1         0    Transient   \n",
       "5012                      0                  2       2         0    Transient   \n",
       "17991                     0                  1       1         0    Transient   \n",
       "\n",
       "          ADR       Meal Country      Company  ReservedRoomType  \\\n",
       "10043   54.00  HB            PRT         NULL  A                  \n",
       "19043  108.02  BB            PRT         NULL  F                  \n",
       "3509    47.54  BB            PRT         NULL  D                  \n",
       "5012    86.00  HB            PRT         NULL  A                  \n",
       "17991   35.00  BB            PRT           88  A                  \n",
       "\n",
       "       IsRepeatedGuest  IsCanceled  \n",
       "10043            False        True  \n",
       "19043            False        True  \n",
       "3509             False        True  \n",
       "5012             False        True  \n",
       "17991             True        True  "
      ]
     },
     "execution_count": 6,
     "metadata": {},
     "output_type": "execute_result"
    }
   ],
   "source": [
    "df.head()"
   ]
  },
  {
   "cell_type": "code",
   "execution_count": 7,
   "metadata": {},
   "outputs": [
    {
     "data": {
      "text/plain": [
       "(33688, 16)"
      ]
     },
     "execution_count": 7,
     "metadata": {},
     "output_type": "execute_result"
    }
   ],
   "source": [
    "df.shape"
   ]
  },
  {
   "cell_type": "code",
   "execution_count": 8,
   "metadata": {},
   "outputs": [
    {
     "name": "stdout",
     "output_type": "stream",
     "text": [
      "<class 'pandas.core.frame.DataFrame'>\n",
      "Int64Index: 33688 entries, 10043 to 40059\n",
      "Data columns (total 16 columns):\n",
      " #   Column                 Non-Null Count  Dtype  \n",
      "---  ------                 --------------  -----  \n",
      " 0   HotelId                33688 non-null  int64  \n",
      " 1   ReservationStatusDate  33688 non-null  object \n",
      " 2   ArrivalDate            33688 non-null  object \n",
      " 3   LeadTime               33688 non-null  int64  \n",
      " 4   StaysInWeekendNights   33688 non-null  int64  \n",
      " 5   StaysInWeekNights      33688 non-null  int64  \n",
      " 6   Adults                 33688 non-null  int64  \n",
      " 7   Children               33688 non-null  int64  \n",
      " 8   CustomerType           33688 non-null  object \n",
      " 9   ADR                    33688 non-null  float64\n",
      " 10  Meal                   33688 non-null  object \n",
      " 11  Country                33256 non-null  object \n",
      " 12  Company                33688 non-null  object \n",
      " 13  ReservedRoomType       33688 non-null  object \n",
      " 14  IsRepeatedGuest        33688 non-null  bool   \n",
      " 15  IsCanceled             33688 non-null  bool   \n",
      "dtypes: bool(2), float64(1), int64(6), object(7)\n",
      "memory usage: 3.9+ MB\n"
     ]
    }
   ],
   "source": [
    "df.info()"
   ]
  },
  {
   "attachments": {},
   "cell_type": "markdown",
   "metadata": {},
   "source": [
    "# Data Cleaning"
   ]
  },
  {
   "attachments": {},
   "cell_type": "markdown",
   "metadata": {},
   "source": [
    "## Duplicated rows"
   ]
  },
  {
   "cell_type": "code",
   "execution_count": 9,
   "metadata": {},
   "outputs": [
    {
     "name": "stdout",
     "output_type": "stream",
     "text": [
      "5156 duplicated rows were deleted\n"
     ]
    }
   ],
   "source": [
    "print(df.duplicated().sum(), 'duplicated rows were deleted')\n",
    "df.drop_duplicates(inplace=True)"
   ]
  },
  {
   "attachments": {},
   "cell_type": "markdown",
   "metadata": {},
   "source": [
    "## Null values"
   ]
  },
  {
   "cell_type": "code",
   "execution_count": 10,
   "metadata": {},
   "outputs": [
    {
     "data": {
      "text/plain": [
       "HotelId                    0\n",
       "ReservationStatusDate      0\n",
       "ArrivalDate                0\n",
       "LeadTime                   0\n",
       "StaysInWeekendNights       0\n",
       "StaysInWeekNights          0\n",
       "Adults                     0\n",
       "Children                   0\n",
       "CustomerType               0\n",
       "ADR                        0\n",
       "Meal                       0\n",
       "Country                  415\n",
       "Company                    0\n",
       "ReservedRoomType           0\n",
       "IsRepeatedGuest            0\n",
       "IsCanceled                 0\n",
       "dtype: int64"
      ]
     },
     "execution_count": 10,
     "metadata": {},
     "output_type": "execute_result"
    }
   ],
   "source": [
    "df.isnull().sum()"
   ]
  },
  {
   "cell_type": "code",
   "execution_count": 11,
   "metadata": {},
   "outputs": [
    {
     "data": {
      "text/plain": [
       "HotelId                  0\n",
       "ReservationStatusDate    0\n",
       "ArrivalDate              0\n",
       "LeadTime                 0\n",
       "StaysInWeekendNights     0\n",
       "StaysInWeekNights        0\n",
       "Adults                   0\n",
       "Children                 0\n",
       "CustomerType             0\n",
       "ADR                      0\n",
       "Meal                     0\n",
       "Country                  0\n",
       "Company                  0\n",
       "ReservedRoomType         0\n",
       "IsRepeatedGuest          0\n",
       "IsCanceled               0\n",
       "dtype: int64"
      ]
     },
     "execution_count": 11,
     "metadata": {},
     "output_type": "execute_result"
    }
   ],
   "source": [
    "df.dropna(inplace=True)\n",
    "df.isnull().sum()"
   ]
  },
  {
   "attachments": {},
   "cell_type": "markdown",
   "metadata": {},
   "source": [
    "# Exploratory Data Analysis"
   ]
  },
  {
   "attachments": {},
   "cell_type": "markdown",
   "metadata": {},
   "source": [
    "## Target"
   ]
  },
  {
   "cell_type": "code",
   "execution_count": 12,
   "metadata": {},
   "outputs": [
    {
     "data": {
      "image/png": "[encoded data removed]",
      "text/plain": [
       "<Figure size 640x480 with 1 Axes>"
      ]
     },
     "metadata": {},
     "output_type": "display_data"
    }
   ],
   "source": [
    "sns.countplot(x=df['IsCanceled'])\n",
    "plt.title(f'Recuento de valores del target')\n",
    "plt.show()"
   ]
  },
  {
   "attachments": {},
   "cell_type": "markdown",
   "metadata": {},
   "source": [
    "Se puede observar que el target está desbalanceado. Más adelante se aplicará alguna técnicas de re-muestreo para resolver este problema."
   ]
  },
  {
   "attachments": {},
   "cell_type": "markdown",
   "metadata": {},
   "source": [
    "## Categorical"
   ]
  },
  {
   "cell_type": "code",
   "execution_count": 13,
   "metadata": {},
   "outputs": [],
   "source": [
    "categorical = ['CustomerType', 'Meal', 'ReservedRoomType', 'IsRepeatedGuest']"
   ]
  },
  {
   "cell_type": "code",
   "execution_count": 14,
   "metadata": {},
   "outputs": [
    {
     "data": {
      "image/png": "[encoded data removed]",
      "text/plain": [
       "<Figure size 1600x400 with 4 Axes>"
      ]
     },
     "metadata": {},
     "output_type": "display_data"
    }
   ],
   "source": [
    "fig, ax = plt.subplots(1, len(categorical), figsize=(16, 4), sharey=True)\n",
    "\n",
    "for i, label in enumerate(categorical):\n",
    "    chart = sns.histplot(data=df, x=label, hue='IsCanceled', \n",
    "                         ax=ax[i], discrete=True, stat='percent', alpha=1., \n",
    "                         multiple='stack')\n",
    "    plt.setp(chart.get_xticklabels(), rotation = 90)\n",
    "\n",
    "fig.tight_layout()"
   ]
  },
  {
   "attachments": {},
   "cell_type": "markdown",
   "metadata": {},
   "source": [
    "Conclusiones: Según las gráficas, las variables 'IsRepeatedGuest' tendrá un efecto negativo en el rendimiento del modelo en términos de sobreajuste y sesgo. Por lo tanto, es una sabia decisión omitir 'IsRepeatedGuest del conjunto de datos.\n"
   ]
  },
  {
   "cell_type": "code",
   "execution_count": 15,
   "metadata": {},
   "outputs": [],
   "source": [
    "df.drop('IsRepeatedGuest', axis=1, inplace=True)"
   ]
  },
  {
   "attachments": {},
   "cell_type": "markdown",
   "metadata": {},
   "source": [
    "## Non Categorical"
   ]
  },
  {
   "cell_type": "code",
   "execution_count": 16,
   "metadata": {},
   "outputs": [],
   "source": [
    "non_categorical = ['HotelId', 'StaysInWeekendNights', 'StaysInWeekNights', 'Adults', 'Children']"
   ]
  },
  {
   "cell_type": "code",
   "execution_count": 17,
   "metadata": {},
   "outputs": [
    {
     "data": {
      "image/png": "[encoded data removed]",
      "text/plain": [
       "<Figure size 2000x400 with 5 Axes>"
      ]
     },
     "metadata": {},
     "output_type": "display_data"
    }
   ],
   "source": [
    "fig, ax = plt.subplots(1, 5, figsize=(20, 4), sharey=True)\n",
    "ax = ax.flatten()\n",
    "\n",
    "for i, label in enumerate(non_categorical):\n",
    "    sns.histplot(data=df, x=label, hue='IsCanceled', ax=ax[i], \n",
    "                 discrete=True, stat='percent', alpha=1., multiple='stack', \n",
    "                 binwidth=1)\n",
    "\n",
    "fig.tight_layout()"
   ]
  },
  {
   "attachments": {},
   "cell_type": "markdown",
   "metadata": {},
   "source": [
    "La variable 'HotelId' contiene un único valor para todo el dataset, por lo que no aporta ninguna información."
   ]
  },
  {
   "cell_type": "code",
   "execution_count": 18,
   "metadata": {},
   "outputs": [
    {
     "data": {
      "text/plain": [
       "<Axes: >"
      ]
     },
     "execution_count": 18,
     "metadata": {},
     "output_type": "execute_result"
    },
    {
     "data": {
      "image/png": "[encoded data removed]",
      "text/plain": [
       "<Figure size 500x500 with 2 Axes>"
      ]
     },
     "metadata": {},
     "output_type": "display_data"
    }
   ],
   "source": [
    "fig = plt.figure(figsize=(5, 5))\n",
    "corr = df[['IsCanceled']+non_categorical].corr()\n",
    "sns.heatmap(corr, mask=np.tril(corr), annot=True, cmap='vlag', square=True)"
   ]
  },
  {
   "attachments": {},
   "cell_type": "markdown",
   "metadata": {},
   "source": [
    "Observamos una correlación relativamente alta entre 'StaysInWeekendNights' y 'StaysInWeekNights'."
   ]
  },
  {
   "cell_type": "code",
   "execution_count": 19,
   "metadata": {},
   "outputs": [
    {
     "data": {
      "text/plain": [
       "1"
      ]
     },
     "execution_count": 19,
     "metadata": {},
     "output_type": "execute_result"
    }
   ],
   "source": [
    "df['HotelId'].nunique()"
   ]
  },
  {
   "cell_type": "code",
   "execution_count": 20,
   "metadata": {},
   "outputs": [],
   "source": [
    "df.drop('HotelId', axis=1, inplace=True)"
   ]
  },
  {
   "attachments": {},
   "cell_type": "markdown",
   "metadata": {},
   "source": [
    "## Continuous"
   ]
  },
  {
   "cell_type": "code",
   "execution_count": 21,
   "metadata": {},
   "outputs": [],
   "source": [
    "# customize `binwidth` for each continuous parameter's histogram plot\n",
    "# based on the nature of the parameter\n",
    "binwidth = {\n",
    "    'LeadTime': 5., # 5 days\n",
    "    'ADR': 10. # 10€\n",
    "}\n",
    "\n",
    "props = {\n",
    "    'boxprops': {'edgecolor': 'w'},\n",
    "    'medianprops': {'color': 'w'},\n",
    "    'whiskerprops': {'color': 'w'},\n",
    "    'capprops': {'color': 'w'},\n",
    "    'flierprops': {'markeredgecolor': 'w', 'marker': 'o'}\n",
    "}"
   ]
  },
  {
   "cell_type": "code",
   "execution_count": 22,
   "metadata": {},
   "outputs": [
    {
     "data": {
      "image/png": "[encoded data removed]",
      "text/plain": [
       "<Figure size 1200x600 with 4 Axes>"
      ]
     },
     "metadata": {},
     "output_type": "display_data"
    }
   ],
   "source": [
    "# configure figure for a combined box + histogram plot\n",
    "fig, ax = plt.subplots(2, 2, sharex='col', sharey='row', \n",
    "                                      figsize=(12, 6), \n",
    "                                      gridspec_kw={\"height_ratios\": (.15, .85)})\n",
    "ax = ax.flatten()\n",
    "\n",
    "sns.boxplot(data=df, x='LeadTime', y='IsCanceled', ax=ax[0], orient='h')\n",
    "\n",
    "sns.histplot(data=df, x='LeadTime', ax=ax[2], \n",
    "             binwidth=binwidth['LeadTime'], hue=\"IsCanceled\", \n",
    "             multiple='stack', alpha=1.)\n",
    "\n",
    "sns.boxplot(data=df, x='ADR', y='IsCanceled', ax=ax[1], orient='h')\n",
    "\n",
    "sns.histplot(data=df, x='ADR', ax=ax[3], \n",
    "             binwidth=binwidth['LeadTime'], hue=\"IsCanceled\", \n",
    "             multiple='stack', alpha=1.)\n",
    "\n",
    "fig.tight_layout()"
   ]
  },
  {
   "attachments": {},
   "cell_type": "markdown",
   "metadata": {},
   "source": [
    "En la variable 'LeadTime' puede observarse como la distribucion para las reservas que se cancelaron es más uniforme que para los que no cancelaron. Lo mismo sucede con la variable 'ADR'. Además, para estas dos variables observamos muchos outliers."
   ]
  },
  {
   "cell_type": "code",
   "execution_count": 23,
   "metadata": {},
   "outputs": [
    {
     "data": {
      "text/plain": [
       "<Axes: >"
      ]
     },
     "execution_count": 23,
     "metadata": {},
     "output_type": "execute_result"
    },
    {
     "data": {
      "image/png": "[encoded data removed]",
      "text/plain": [
       "<Figure size 400x400 with 2 Axes>"
      ]
     },
     "metadata": {},
     "output_type": "display_data"
    }
   ],
   "source": [
    "fig = plt.figure(figsize=(4, 4))\n",
    "corr = df[['IsCanceled']+['LeadTime', 'ADR']].corr()\n",
    "sns.heatmap(corr, mask=np.tril(corr), annot=True, cmap='vlag', square=True)"
   ]
  },
  {
   "attachments": {},
   "cell_type": "markdown",
   "metadata": {},
   "source": [
    "'ADR' y 'LeadTime' no presentan correlación."
   ]
  },
  {
   "cell_type": "code",
   "execution_count": 24,
   "metadata": {},
   "outputs": [
    {
     "data": {
      "text/html": [
       "<div>\n",
       "<style scoped>\n",
       "    .dataframe tbody tr th:only-of-type {\n",
       "        vertical-align: middle;\n",
       "    }\n",
       "\n",
       "    .dataframe tbody tr th {\n",
       "        vertical-align: top;\n",
       "    }\n",
       "\n",
       "    .dataframe thead th {\n",
       "        text-align: right;\n",
       "    }\n",
       "</style>\n",
       "<table border=\"1\" class=\"dataframe\">\n",
       "  <thead>\n",
       "    <tr style=\"text-align: right;\">\n",
       "      <th></th>\n",
       "      <th>LeadTime</th>\n",
       "      <th>StaysInWeekendNights</th>\n",
       "      <th>StaysInWeekNights</th>\n",
       "      <th>Adults</th>\n",
       "      <th>Children</th>\n",
       "      <th>ADR</th>\n",
       "    </tr>\n",
       "  </thead>\n",
       "  <tbody>\n",
       "    <tr>\n",
       "      <th>count</th>\n",
       "      <td>28117.000000</td>\n",
       "      <td>28117.000000</td>\n",
       "      <td>28117.000000</td>\n",
       "      <td>28117.000000</td>\n",
       "      <td>28117.000000</td>\n",
       "      <td>28117.000000</td>\n",
       "    </tr>\n",
       "    <tr>\n",
       "      <th>mean</th>\n",
       "      <td>78.526870</td>\n",
       "      <td>1.212398</td>\n",
       "      <td>3.154924</td>\n",
       "      <td>1.871395</td>\n",
       "      <td>0.138493</td>\n",
       "      <td>97.418410</td>\n",
       "    </tr>\n",
       "    <tr>\n",
       "      <th>std</th>\n",
       "      <td>89.472026</td>\n",
       "      <td>1.160838</td>\n",
       "      <td>2.497510</td>\n",
       "      <td>0.548766</td>\n",
       "      <td>0.453198</td>\n",
       "      <td>62.618751</td>\n",
       "    </tr>\n",
       "    <tr>\n",
       "      <th>min</th>\n",
       "      <td>0.000000</td>\n",
       "      <td>0.000000</td>\n",
       "      <td>0.000000</td>\n",
       "      <td>0.000000</td>\n",
       "      <td>0.000000</td>\n",
       "      <td>-6.380000</td>\n",
       "    </tr>\n",
       "    <tr>\n",
       "      <th>25%</th>\n",
       "      <td>6.000000</td>\n",
       "      <td>0.000000</td>\n",
       "      <td>1.000000</td>\n",
       "      <td>2.000000</td>\n",
       "      <td>0.000000</td>\n",
       "      <td>51.000000</td>\n",
       "    </tr>\n",
       "    <tr>\n",
       "      <th>50%</th>\n",
       "      <td>41.000000</td>\n",
       "      <td>1.000000</td>\n",
       "      <td>3.000000</td>\n",
       "      <td>2.000000</td>\n",
       "      <td>0.000000</td>\n",
       "      <td>78.230000</td>\n",
       "    </tr>\n",
       "    <tr>\n",
       "      <th>75%</th>\n",
       "      <td>129.000000</td>\n",
       "      <td>2.000000</td>\n",
       "      <td>5.000000</td>\n",
       "      <td>2.000000</td>\n",
       "      <td>0.000000</td>\n",
       "      <td>131.400000</td>\n",
       "    </tr>\n",
       "    <tr>\n",
       "      <th>max</th>\n",
       "      <td>737.000000</td>\n",
       "      <td>16.000000</td>\n",
       "      <td>40.000000</td>\n",
       "      <td>27.000000</td>\n",
       "      <td>3.000000</td>\n",
       "      <td>508.000000</td>\n",
       "    </tr>\n",
       "  </tbody>\n",
       "</table>\n",
       "</div>"
      ],
      "text/plain": [
       "           LeadTime  StaysInWeekendNights  StaysInWeekNights        Adults  \\\n",
       "count  28117.000000          28117.000000       28117.000000  28117.000000   \n",
       "mean      78.526870              1.212398           3.154924      1.871395   \n",
       "std       89.472026              1.160838           2.497510      0.548766   \n",
       "min        0.000000              0.000000           0.000000      0.000000   \n",
       "25%        6.000000              0.000000           1.000000      2.000000   \n",
       "50%       41.000000              1.000000           3.000000      2.000000   \n",
       "75%      129.000000              2.000000           5.000000      2.000000   \n",
       "max      737.000000             16.000000          40.000000     27.000000   \n",
       "\n",
       "           Children           ADR  \n",
       "count  28117.000000  28117.000000  \n",
       "mean       0.138493     97.418410  \n",
       "std        0.453198     62.618751  \n",
       "min        0.000000     -6.380000  \n",
       "25%        0.000000     51.000000  \n",
       "50%        0.000000     78.230000  \n",
       "75%        0.000000    131.400000  \n",
       "max        3.000000    508.000000  "
      ]
     },
     "execution_count": 24,
     "metadata": {},
     "output_type": "execute_result"
    }
   ],
   "source": [
    "df.describe()"
   ]
  },
  {
   "attachments": {},
   "cell_type": "markdown",
   "metadata": {},
   "source": [
    "Haciendo el describe sobre las variables numéricas vemos que la variable 'ADR' presenta valores negativos los cuales, teniendo en cuenta que esta variable contiene los precios medios de reserva, no tienen mucho sentido."
   ]
  },
  {
   "cell_type": "code",
   "execution_count": 25,
   "metadata": {},
   "outputs": [
    {
     "data": {
      "text/html": [
       "<div>\n",
       "<style scoped>\n",
       "    .dataframe tbody tr th:only-of-type {\n",
       "        vertical-align: middle;\n",
       "    }\n",
       "\n",
       "    .dataframe tbody tr th {\n",
       "        vertical-align: top;\n",
       "    }\n",
       "\n",
       "    .dataframe thead th {\n",
       "        text-align: right;\n",
       "    }\n",
       "</style>\n",
       "<table border=\"1\" class=\"dataframe\">\n",
       "  <thead>\n",
       "    <tr style=\"text-align: right;\">\n",
       "      <th></th>\n",
       "      <th>ReservationStatusDate</th>\n",
       "      <th>ArrivalDate</th>\n",
       "      <th>LeadTime</th>\n",
       "      <th>StaysInWeekendNights</th>\n",
       "      <th>StaysInWeekNights</th>\n",
       "      <th>Adults</th>\n",
       "      <th>Children</th>\n",
       "      <th>CustomerType</th>\n",
       "      <th>ADR</th>\n",
       "      <th>Meal</th>\n",
       "      <th>Country</th>\n",
       "      <th>Company</th>\n",
       "      <th>ReservedRoomType</th>\n",
       "      <th>IsCanceled</th>\n",
       "    </tr>\n",
       "  </thead>\n",
       "  <tbody>\n",
       "    <tr>\n",
       "      <th>14969</th>\n",
       "      <td>2017-03-15</td>\n",
       "      <td>2017-03-05</td>\n",
       "      <td>195</td>\n",
       "      <td>4</td>\n",
       "      <td>6</td>\n",
       "      <td>2</td>\n",
       "      <td>0</td>\n",
       "      <td>Transient-Party</td>\n",
       "      <td>-6.38</td>\n",
       "      <td>BB</td>\n",
       "      <td>GBR</td>\n",
       "      <td>NULL</td>\n",
       "      <td>A</td>\n",
       "      <td>False</td>\n",
       "    </tr>\n",
       "  </tbody>\n",
       "</table>\n",
       "</div>"
      ],
      "text/plain": [
       "      ReservationStatusDate ArrivalDate  LeadTime  StaysInWeekendNights  \\\n",
       "14969            2017-03-15  2017-03-05       195                     4   \n",
       "\n",
       "       StaysInWeekNights  Adults  Children     CustomerType   ADR       Meal  \\\n",
       "14969                  6       2         0  Transient-Party -6.38  BB          \n",
       "\n",
       "      Country      Company  ReservedRoomType  IsCanceled  \n",
       "14969     GBR         NULL  A                      False  "
      ]
     },
     "execution_count": 25,
     "metadata": {},
     "output_type": "execute_result"
    }
   ],
   "source": [
    "df[df['ADR'] < 0]"
   ]
  },
  {
   "attachments": {},
   "cell_type": "markdown",
   "metadata": {},
   "source": [
    "Podríamos suponer que un valor negativo significa una devolución del dinero o una situación similar, pero en este caso, al ser solo una fila, la eliminamos."
   ]
  },
  {
   "cell_type": "code",
   "execution_count": 26,
   "metadata": {},
   "outputs": [],
   "source": [
    "df = df[df['ADR'] >= 0]"
   ]
  },
  {
   "cell_type": "code",
   "execution_count": 27,
   "metadata": {},
   "outputs": [
    {
     "name": "stdout",
     "output_type": "stream",
     "text": [
      "<class 'pandas.core.frame.DataFrame'>\n",
      "Int64Index: 28116 entries, 10043 to 40059\n",
      "Data columns (total 14 columns):\n",
      " #   Column                 Non-Null Count  Dtype  \n",
      "---  ------                 --------------  -----  \n",
      " 0   ReservationStatusDate  28116 non-null  object \n",
      " 1   ArrivalDate            28116 non-null  object \n",
      " 2   LeadTime               28116 non-null  int64  \n",
      " 3   StaysInWeekendNights   28116 non-null  int64  \n",
      " 4   StaysInWeekNights      28116 non-null  int64  \n",
      " 5   Adults                 28116 non-null  int64  \n",
      " 6   Children               28116 non-null  int64  \n",
      " 7   CustomerType           28116 non-null  object \n",
      " 8   ADR                    28116 non-null  float64\n",
      " 9   Meal                   28116 non-null  object \n",
      " 10  Country                28116 non-null  object \n",
      " 11  Company                28116 non-null  object \n",
      " 12  ReservedRoomType       28116 non-null  object \n",
      " 13  IsCanceled             28116 non-null  bool   \n",
      "dtypes: bool(1), float64(1), int64(5), object(7)\n",
      "memory usage: 3.0+ MB\n"
     ]
    }
   ],
   "source": [
    "df.info()"
   ]
  },
  {
   "attachments": {},
   "cell_type": "markdown",
   "metadata": {},
   "source": [
    "## Dates"
   ]
  },
  {
   "cell_type": "code",
   "execution_count": 28,
   "metadata": {},
   "outputs": [],
   "source": [
    "df['ReservationStatusDate'] = pd.to_datetime(df['ReservationStatusDate'], format='%Y-%m-%d')\n",
    "df['ArrivalDate'] = pd.to_datetime(df['ArrivalDate'], format='%Y-%m-%d')"
   ]
  },
  {
   "attachments": {},
   "cell_type": "markdown",
   "metadata": {},
   "source": [
    "Podemos observar que existen registros con 'ReservationStatusDate' posterior a 'ArrivalDate' (No puedes realizar una reserva para una fecha pasada, por lo que no tienen sentido estos valores)."
   ]
  },
  {
   "cell_type": "code",
   "execution_count": 29,
   "metadata": {},
   "outputs": [
    {
     "data": {
      "text/html": [
       "<div>\n",
       "<style scoped>\n",
       "    .dataframe tbody tr th:only-of-type {\n",
       "        vertical-align: middle;\n",
       "    }\n",
       "\n",
       "    .dataframe tbody tr th {\n",
       "        vertical-align: top;\n",
       "    }\n",
       "\n",
       "    .dataframe thead th {\n",
       "        text-align: right;\n",
       "    }\n",
       "</style>\n",
       "<table border=\"1\" class=\"dataframe\">\n",
       "  <thead>\n",
       "    <tr style=\"text-align: right;\">\n",
       "      <th></th>\n",
       "      <th>ReservationStatusDate</th>\n",
       "      <th>ArrivalDate</th>\n",
       "      <th>LeadTime</th>\n",
       "      <th>StaysInWeekendNights</th>\n",
       "      <th>StaysInWeekNights</th>\n",
       "      <th>Adults</th>\n",
       "      <th>Children</th>\n",
       "      <th>CustomerType</th>\n",
       "      <th>ADR</th>\n",
       "      <th>Meal</th>\n",
       "      <th>Country</th>\n",
       "      <th>Company</th>\n",
       "      <th>ReservedRoomType</th>\n",
       "      <th>IsCanceled</th>\n",
       "    </tr>\n",
       "  </thead>\n",
       "  <tbody>\n",
       "    <tr>\n",
       "      <th>2</th>\n",
       "      <td>2015-07-02</td>\n",
       "      <td>2015-07-01</td>\n",
       "      <td>7</td>\n",
       "      <td>0</td>\n",
       "      <td>1</td>\n",
       "      <td>1</td>\n",
       "      <td>0</td>\n",
       "      <td>Transient</td>\n",
       "      <td>75.00</td>\n",
       "      <td>BB</td>\n",
       "      <td>GBR</td>\n",
       "      <td>NULL</td>\n",
       "      <td>A</td>\n",
       "      <td>False</td>\n",
       "    </tr>\n",
       "    <tr>\n",
       "      <th>3</th>\n",
       "      <td>2015-07-02</td>\n",
       "      <td>2015-07-01</td>\n",
       "      <td>13</td>\n",
       "      <td>0</td>\n",
       "      <td>1</td>\n",
       "      <td>1</td>\n",
       "      <td>0</td>\n",
       "      <td>Transient</td>\n",
       "      <td>75.00</td>\n",
       "      <td>BB</td>\n",
       "      <td>GBR</td>\n",
       "      <td>NULL</td>\n",
       "      <td>A</td>\n",
       "      <td>False</td>\n",
       "    </tr>\n",
       "    <tr>\n",
       "      <th>4</th>\n",
       "      <td>2015-07-03</td>\n",
       "      <td>2015-07-01</td>\n",
       "      <td>14</td>\n",
       "      <td>0</td>\n",
       "      <td>2</td>\n",
       "      <td>2</td>\n",
       "      <td>0</td>\n",
       "      <td>Transient</td>\n",
       "      <td>98.00</td>\n",
       "      <td>BB</td>\n",
       "      <td>GBR</td>\n",
       "      <td>NULL</td>\n",
       "      <td>A</td>\n",
       "      <td>False</td>\n",
       "    </tr>\n",
       "    <tr>\n",
       "      <th>6</th>\n",
       "      <td>2015-07-03</td>\n",
       "      <td>2015-07-01</td>\n",
       "      <td>0</td>\n",
       "      <td>0</td>\n",
       "      <td>2</td>\n",
       "      <td>2</td>\n",
       "      <td>0</td>\n",
       "      <td>Transient</td>\n",
       "      <td>107.00</td>\n",
       "      <td>BB</td>\n",
       "      <td>PRT</td>\n",
       "      <td>NULL</td>\n",
       "      <td>C</td>\n",
       "      <td>False</td>\n",
       "    </tr>\n",
       "    <tr>\n",
       "      <th>7</th>\n",
       "      <td>2015-07-03</td>\n",
       "      <td>2015-07-01</td>\n",
       "      <td>9</td>\n",
       "      <td>0</td>\n",
       "      <td>2</td>\n",
       "      <td>2</td>\n",
       "      <td>0</td>\n",
       "      <td>Transient</td>\n",
       "      <td>103.00</td>\n",
       "      <td>FB</td>\n",
       "      <td>PRT</td>\n",
       "      <td>NULL</td>\n",
       "      <td>C</td>\n",
       "      <td>False</td>\n",
       "    </tr>\n",
       "    <tr>\n",
       "      <th>...</th>\n",
       "      <td>...</td>\n",
       "      <td>...</td>\n",
       "      <td>...</td>\n",
       "      <td>...</td>\n",
       "      <td>...</td>\n",
       "      <td>...</td>\n",
       "      <td>...</td>\n",
       "      <td>...</td>\n",
       "      <td>...</td>\n",
       "      <td>...</td>\n",
       "      <td>...</td>\n",
       "      <td>...</td>\n",
       "      <td>...</td>\n",
       "      <td>...</td>\n",
       "    </tr>\n",
       "    <tr>\n",
       "      <th>40055</th>\n",
       "      <td>2017-09-10</td>\n",
       "      <td>2017-08-31</td>\n",
       "      <td>212</td>\n",
       "      <td>2</td>\n",
       "      <td>8</td>\n",
       "      <td>2</td>\n",
       "      <td>1</td>\n",
       "      <td>Transient</td>\n",
       "      <td>89.75</td>\n",
       "      <td>BB</td>\n",
       "      <td>GBR</td>\n",
       "      <td>NULL</td>\n",
       "      <td>A</td>\n",
       "      <td>False</td>\n",
       "    </tr>\n",
       "    <tr>\n",
       "      <th>40056</th>\n",
       "      <td>2017-09-10</td>\n",
       "      <td>2017-08-30</td>\n",
       "      <td>169</td>\n",
       "      <td>2</td>\n",
       "      <td>9</td>\n",
       "      <td>2</td>\n",
       "      <td>0</td>\n",
       "      <td>Transient-Party</td>\n",
       "      <td>202.27</td>\n",
       "      <td>BB</td>\n",
       "      <td>IRL</td>\n",
       "      <td>NULL</td>\n",
       "      <td>E</td>\n",
       "      <td>False</td>\n",
       "    </tr>\n",
       "    <tr>\n",
       "      <th>40057</th>\n",
       "      <td>2017-09-12</td>\n",
       "      <td>2017-08-29</td>\n",
       "      <td>204</td>\n",
       "      <td>4</td>\n",
       "      <td>10</td>\n",
       "      <td>2</td>\n",
       "      <td>0</td>\n",
       "      <td>Transient</td>\n",
       "      <td>153.57</td>\n",
       "      <td>BB</td>\n",
       "      <td>IRL</td>\n",
       "      <td>NULL</td>\n",
       "      <td>E</td>\n",
       "      <td>False</td>\n",
       "    </tr>\n",
       "    <tr>\n",
       "      <th>40058</th>\n",
       "      <td>2017-09-14</td>\n",
       "      <td>2017-08-31</td>\n",
       "      <td>211</td>\n",
       "      <td>4</td>\n",
       "      <td>10</td>\n",
       "      <td>2</td>\n",
       "      <td>0</td>\n",
       "      <td>Contract</td>\n",
       "      <td>112.80</td>\n",
       "      <td>HB</td>\n",
       "      <td>GBR</td>\n",
       "      <td>NULL</td>\n",
       "      <td>D</td>\n",
       "      <td>False</td>\n",
       "    </tr>\n",
       "    <tr>\n",
       "      <th>40059</th>\n",
       "      <td>2017-09-14</td>\n",
       "      <td>2017-08-31</td>\n",
       "      <td>161</td>\n",
       "      <td>4</td>\n",
       "      <td>10</td>\n",
       "      <td>2</td>\n",
       "      <td>0</td>\n",
       "      <td>Transient</td>\n",
       "      <td>99.06</td>\n",
       "      <td>HB</td>\n",
       "      <td>DEU</td>\n",
       "      <td>NULL</td>\n",
       "      <td>A</td>\n",
       "      <td>False</td>\n",
       "    </tr>\n",
       "  </tbody>\n",
       "</table>\n",
       "<p>24111 rows × 14 columns</p>\n",
       "</div>"
      ],
      "text/plain": [
       "      ReservationStatusDate ArrivalDate  LeadTime  StaysInWeekendNights  \\\n",
       "2                2015-07-02  2015-07-01         7                     0   \n",
       "3                2015-07-02  2015-07-01        13                     0   \n",
       "4                2015-07-03  2015-07-01        14                     0   \n",
       "6                2015-07-03  2015-07-01         0                     0   \n",
       "7                2015-07-03  2015-07-01         9                     0   \n",
       "...                     ...         ...       ...                   ...   \n",
       "40055            2017-09-10  2017-08-31       212                     2   \n",
       "40056            2017-09-10  2017-08-30       169                     2   \n",
       "40057            2017-09-12  2017-08-29       204                     4   \n",
       "40058            2017-09-14  2017-08-31       211                     4   \n",
       "40059            2017-09-14  2017-08-31       161                     4   \n",
       "\n",
       "       StaysInWeekNights  Adults  Children     CustomerType     ADR  \\\n",
       "2                      1       1         0        Transient   75.00   \n",
       "3                      1       1         0        Transient   75.00   \n",
       "4                      2       2         0        Transient   98.00   \n",
       "6                      2       2         0        Transient  107.00   \n",
       "7                      2       2         0        Transient  103.00   \n",
       "...                  ...     ...       ...              ...     ...   \n",
       "40055                  8       2         1        Transient   89.75   \n",
       "40056                  9       2         0  Transient-Party  202.27   \n",
       "40057                 10       2         0        Transient  153.57   \n",
       "40058                 10       2         0         Contract  112.80   \n",
       "40059                 10       2         0        Transient   99.06   \n",
       "\n",
       "            Meal Country      Company  ReservedRoomType  IsCanceled  \n",
       "2      BB            GBR         NULL  A                      False  \n",
       "3      BB            GBR         NULL  A                      False  \n",
       "4      BB            GBR         NULL  A                      False  \n",
       "6      BB            PRT         NULL  C                      False  \n",
       "7      FB            PRT         NULL  C                      False  \n",
       "...          ...     ...          ...               ...         ...  \n",
       "40055  BB            GBR         NULL  A                      False  \n",
       "40056  BB            IRL         NULL  E                      False  \n",
       "40057  BB            IRL         NULL  E                      False  \n",
       "40058  HB            GBR         NULL  D                      False  \n",
       "40059  HB            DEU         NULL  A                      False  \n",
       "\n",
       "[24111 rows x 14 columns]"
      ]
     },
     "execution_count": 29,
     "metadata": {},
     "output_type": "execute_result"
    }
   ],
   "source": [
    "df[df['ReservationStatusDate'] > df['ArrivalDate']]"
   ]
  },
  {
   "attachments": {},
   "cell_type": "markdown",
   "metadata": {},
   "source": [
    "Por esta razon, nos quedaremos solo con la variable 'ArrivalDate' y la separaremos en varias variables (año, mes, semana y día) para poder analizarla mejor."
   ]
  },
  {
   "cell_type": "code",
   "execution_count": 30,
   "metadata": {},
   "outputs": [],
   "source": [
    "df['ArrivalYear'] = df['ArrivalDate'].dt.year\n",
    "df['ArrivalMonth'] = df['ArrivalDate'].dt.month\n",
    "df['ArrivalWeek'] = df['ArrivalDate'].dt.isocalendar().week.astype(float)\n",
    "df['ArrivalDay'] = df['ArrivalDate'].dt.day"
   ]
  },
  {
   "cell_type": "code",
   "execution_count": 31,
   "metadata": {},
   "outputs": [],
   "source": [
    "df.drop(['ReservationStatusDate', 'ArrivalDate'], axis=1, inplace=True)"
   ]
  },
  {
   "cell_type": "code",
   "execution_count": 32,
   "metadata": {},
   "outputs": [],
   "source": [
    "dates = ['ArrivalYear', 'ArrivalMonth', 'ArrivalWeek', 'ArrivalDay']"
   ]
  },
  {
   "cell_type": "code",
   "execution_count": 33,
   "metadata": {},
   "outputs": [
    {
     "data": {
      "text/plain": [
       "10043    2017\n",
       "19043    2016\n",
       "3509     2015\n",
       "5012     2016\n",
       "17991    2015\n",
       "         ... \n",
       "40055    2017\n",
       "40056    2017\n",
       "40057    2017\n",
       "40058    2017\n",
       "40059    2017\n",
       "Name: ArrivalYear, Length: 28116, dtype: int64"
      ]
     },
     "execution_count": 33,
     "metadata": {},
     "output_type": "execute_result"
    }
   ],
   "source": [
    "df['ArrivalYear']"
   ]
  },
  {
   "cell_type": "code",
   "execution_count": 34,
   "metadata": {},
   "outputs": [
    {
     "data": {
      "image/png": "[encoded data removed]",
      "text/plain": [
       "<Figure size 2000x400 with 4 Axes>"
      ]
     },
     "metadata": {},
     "output_type": "display_data"
    }
   ],
   "source": [
    "\n",
    "fig, ax = plt.subplots(1, 4,figsize=(20, 4))\n",
    "ax = ax.flatten()\n",
    "\n",
    "for i, label in enumerate(dates):\n",
    "    chart = sns.histplot(data=df, x=label, hue='IsCanceled', \n",
    "                         ax=ax[i], discrete=True, stat='percent', alpha=1., \n",
    "                         multiple='stack', bins='auto')\n",
    "    plt.setp(chart.get_xticklabels(), rotation = 90)\n",
    "\n",
    "fig.tight_layout()"
   ]
  },
  {
   "attachments": {},
   "cell_type": "markdown",
   "metadata": {},
   "source": [
    "Observamos que en 2017 se produce un aumento de cancelaciones con respecto a las reservas totales. Además, en los meses de verano también se observa un aumento, tanto de reservas como de cancelaciones. "
   ]
  },
  {
   "attachments": {},
   "cell_type": "markdown",
   "metadata": {},
   "source": [
    "# Preprocessing"
   ]
  },
  {
   "cell_type": "code",
   "execution_count": 35,
   "metadata": {},
   "outputs": [],
   "source": [
    "target = df['IsCanceled']\n",
    "features = df.drop('IsCanceled', axis=1)"
   ]
  },
  {
   "cell_type": "code",
   "execution_count": 36,
   "metadata": {},
   "outputs": [],
   "source": [
    "# Delete blank spaces in string values\n",
    "\n",
    "for str_col in features.select_dtypes('object').columns:\n",
    "    features[str_col] = features[str_col].str.replace(\" \", \"\")"
   ]
  },
  {
   "cell_type": "code",
   "execution_count": 37,
   "metadata": {},
   "outputs": [],
   "source": [
    "cat_columns = features.select_dtypes('object').columns\n",
    "num_columns = features.select_dtypes(exclude=('object')).columns"
   ]
  },
  {
   "cell_type": "code",
   "execution_count": 38,
   "metadata": {},
   "outputs": [],
   "source": [
    "features_encoded = pd.get_dummies(data=features,\n",
    "                               prefix=None, \n",
    "                               prefix_sep=\"_\",\n",
    "                               columns=cat_columns,\n",
    "                               drop_first=\"True\")"
   ]
  },
  {
   "cell_type": "code",
   "execution_count": 39,
   "metadata": {},
   "outputs": [],
   "source": [
    "scaler = MinMaxScaler()\n",
    "\n",
    "for col in num_columns: \n",
    "  features_encoded[col] = scaler.fit_transform(features_encoded[col].values.reshape(-1, 1))"
   ]
  },
  {
   "cell_type": "code",
   "execution_count": 40,
   "metadata": {},
   "outputs": [
    {
     "data": {
      "text/html": [
       "<div>\n",
       "<style scoped>\n",
       "    .dataframe tbody tr th:only-of-type {\n",
       "        vertical-align: middle;\n",
       "    }\n",
       "\n",
       "    .dataframe tbody tr th {\n",
       "        vertical-align: top;\n",
       "    }\n",
       "\n",
       "    .dataframe thead th {\n",
       "        text-align: right;\n",
       "    }\n",
       "</style>\n",
       "<table border=\"1\" class=\"dataframe\">\n",
       "  <thead>\n",
       "    <tr style=\"text-align: right;\">\n",
       "      <th></th>\n",
       "      <th>LeadTime</th>\n",
       "      <th>StaysInWeekendNights</th>\n",
       "      <th>StaysInWeekNights</th>\n",
       "      <th>Adults</th>\n",
       "      <th>Children</th>\n",
       "      <th>ADR</th>\n",
       "      <th>ArrivalYear</th>\n",
       "      <th>ArrivalMonth</th>\n",
       "      <th>ArrivalWeek</th>\n",
       "      <th>ArrivalDay</th>\n",
       "      <th>...</th>\n",
       "      <th>Company_99</th>\n",
       "      <th>Company_NULL</th>\n",
       "      <th>ReservedRoomType_B</th>\n",
       "      <th>ReservedRoomType_C</th>\n",
       "      <th>ReservedRoomType_D</th>\n",
       "      <th>ReservedRoomType_E</th>\n",
       "      <th>ReservedRoomType_F</th>\n",
       "      <th>ReservedRoomType_G</th>\n",
       "      <th>ReservedRoomType_H</th>\n",
       "      <th>ReservedRoomType_L</th>\n",
       "    </tr>\n",
       "  </thead>\n",
       "  <tbody>\n",
       "    <tr>\n",
       "      <th>10043</th>\n",
       "      <td>0.322931</td>\n",
       "      <td>0.000</td>\n",
       "      <td>0.050</td>\n",
       "      <td>0.074074</td>\n",
       "      <td>0.000000</td>\n",
       "      <td>0.106299</td>\n",
       "      <td>1.0</td>\n",
       "      <td>0.090909</td>\n",
       "      <td>0.096154</td>\n",
       "      <td>0.300000</td>\n",
       "      <td>...</td>\n",
       "      <td>0</td>\n",
       "      <td>1</td>\n",
       "      <td>0</td>\n",
       "      <td>0</td>\n",
       "      <td>0</td>\n",
       "      <td>0</td>\n",
       "      <td>0</td>\n",
       "      <td>0</td>\n",
       "      <td>0</td>\n",
       "      <td>0</td>\n",
       "    </tr>\n",
       "    <tr>\n",
       "      <th>19043</th>\n",
       "      <td>0.236092</td>\n",
       "      <td>0.125</td>\n",
       "      <td>0.125</td>\n",
       "      <td>0.074074</td>\n",
       "      <td>0.333333</td>\n",
       "      <td>0.212638</td>\n",
       "      <td>0.5</td>\n",
       "      <td>0.363636</td>\n",
       "      <td>0.384615</td>\n",
       "      <td>0.866667</td>\n",
       "      <td>...</td>\n",
       "      <td>0</td>\n",
       "      <td>1</td>\n",
       "      <td>0</td>\n",
       "      <td>0</td>\n",
       "      <td>0</td>\n",
       "      <td>0</td>\n",
       "      <td>1</td>\n",
       "      <td>0</td>\n",
       "      <td>0</td>\n",
       "      <td>0</td>\n",
       "    </tr>\n",
       "    <tr>\n",
       "      <th>3509</th>\n",
       "      <td>0.352782</td>\n",
       "      <td>0.250</td>\n",
       "      <td>0.225</td>\n",
       "      <td>0.037037</td>\n",
       "      <td>0.000000</td>\n",
       "      <td>0.093583</td>\n",
       "      <td>0.0</td>\n",
       "      <td>1.000000</td>\n",
       "      <td>0.961538</td>\n",
       "      <td>0.633333</td>\n",
       "      <td>...</td>\n",
       "      <td>0</td>\n",
       "      <td>1</td>\n",
       "      <td>0</td>\n",
       "      <td>0</td>\n",
       "      <td>1</td>\n",
       "      <td>0</td>\n",
       "      <td>0</td>\n",
       "      <td>0</td>\n",
       "      <td>0</td>\n",
       "      <td>0</td>\n",
       "    </tr>\n",
       "    <tr>\n",
       "      <th>5012</th>\n",
       "      <td>0.227951</td>\n",
       "      <td>0.000</td>\n",
       "      <td>0.050</td>\n",
       "      <td>0.074074</td>\n",
       "      <td>0.000000</td>\n",
       "      <td>0.169291</td>\n",
       "      <td>0.5</td>\n",
       "      <td>0.272727</td>\n",
       "      <td>0.269231</td>\n",
       "      <td>0.366667</td>\n",
       "      <td>...</td>\n",
       "      <td>0</td>\n",
       "      <td>1</td>\n",
       "      <td>0</td>\n",
       "      <td>0</td>\n",
       "      <td>0</td>\n",
       "      <td>0</td>\n",
       "      <td>0</td>\n",
       "      <td>0</td>\n",
       "      <td>0</td>\n",
       "      <td>0</td>\n",
       "    </tr>\n",
       "    <tr>\n",
       "      <th>17991</th>\n",
       "      <td>0.001357</td>\n",
       "      <td>0.000</td>\n",
       "      <td>0.025</td>\n",
       "      <td>0.037037</td>\n",
       "      <td>0.000000</td>\n",
       "      <td>0.068898</td>\n",
       "      <td>0.0</td>\n",
       "      <td>0.909091</td>\n",
       "      <td>0.865385</td>\n",
       "      <td>0.333333</td>\n",
       "      <td>...</td>\n",
       "      <td>0</td>\n",
       "      <td>0</td>\n",
       "      <td>0</td>\n",
       "      <td>0</td>\n",
       "      <td>0</td>\n",
       "      <td>0</td>\n",
       "      <td>0</td>\n",
       "      <td>0</td>\n",
       "      <td>0</td>\n",
       "      <td>0</td>\n",
       "    </tr>\n",
       "  </tbody>\n",
       "</table>\n",
       "<p>5 rows × 366 columns</p>\n",
       "</div>"
      ],
      "text/plain": [
       "       LeadTime  StaysInWeekendNights  StaysInWeekNights    Adults  Children  \\\n",
       "10043  0.322931                 0.000              0.050  0.074074  0.000000   \n",
       "19043  0.236092                 0.125              0.125  0.074074  0.333333   \n",
       "3509   0.352782                 0.250              0.225  0.037037  0.000000   \n",
       "5012   0.227951                 0.000              0.050  0.074074  0.000000   \n",
       "17991  0.001357                 0.000              0.025  0.037037  0.000000   \n",
       "\n",
       "            ADR  ArrivalYear  ArrivalMonth  ArrivalWeek  ArrivalDay  ...  \\\n",
       "10043  0.106299          1.0      0.090909     0.096154    0.300000  ...   \n",
       "19043  0.212638          0.5      0.363636     0.384615    0.866667  ...   \n",
       "3509   0.093583          0.0      1.000000     0.961538    0.633333  ...   \n",
       "5012   0.169291          0.5      0.272727     0.269231    0.366667  ...   \n",
       "17991  0.068898          0.0      0.909091     0.865385    0.333333  ...   \n",
       "\n",
       "       Company_99  Company_NULL  ReservedRoomType_B  ReservedRoomType_C  \\\n",
       "10043           0             1                   0                   0   \n",
       "19043           0             1                   0                   0   \n",
       "3509            0             1                   0                   0   \n",
       "5012            0             1                   0                   0   \n",
       "17991           0             0                   0                   0   \n",
       "\n",
       "       ReservedRoomType_D  ReservedRoomType_E  ReservedRoomType_F  \\\n",
       "10043                   0                   0                   0   \n",
       "19043                   0                   0                   1   \n",
       "3509                    1                   0                   0   \n",
       "5012                    0                   0                   0   \n",
       "17991                   0                   0                   0   \n",
       "\n",
       "       ReservedRoomType_G  ReservedRoomType_H  ReservedRoomType_L  \n",
       "10043                   0                   0                   0  \n",
       "19043                   0                   0                   0  \n",
       "3509                    0                   0                   0  \n",
       "5012                    0                   0                   0  \n",
       "17991                   0                   0                   0  \n",
       "\n",
       "[5 rows x 366 columns]"
      ]
     },
     "execution_count": 40,
     "metadata": {},
     "output_type": "execute_result"
    }
   ],
   "source": [
    "features_encoded.head()"
   ]
  },
  {
   "attachments": {},
   "cell_type": "markdown",
   "metadata": {},
   "source": [
    "Comprobamos que no haya ninguna variable de tipo string"
   ]
  },
  {
   "cell_type": "code",
   "execution_count": 41,
   "metadata": {},
   "outputs": [
    {
     "data": {
      "text/plain": [
       "Index([], dtype='object')"
      ]
     },
     "execution_count": 41,
     "metadata": {},
     "output_type": "execute_result"
    }
   ],
   "source": [
    "features_encoded.select_dtypes('object').columns"
   ]
  },
  {
   "attachments": {},
   "cell_type": "markdown",
   "metadata": {},
   "source": [
    "Comprobamos que el dataframe de features y e de target tengas el mismo numero de filas"
   ]
  },
  {
   "cell_type": "code",
   "execution_count": 42,
   "metadata": {},
   "outputs": [
    {
     "name": "stdout",
     "output_type": "stream",
     "text": [
      "True\n"
     ]
    }
   ],
   "source": [
    "print(features_encoded.shape[0] == target.shape[0])"
   ]
  },
  {
   "attachments": {},
   "cell_type": "markdown",
   "metadata": {},
   "source": [
    "# Split TRAIN-TEST data"
   ]
  },
  {
   "cell_type": "code",
   "execution_count": 43,
   "metadata": {},
   "outputs": [],
   "source": [
    "# Train (80%) and Test (20%)\n",
    "X_train, X_test, y_train, y_test = train_test_split(features_encoded, target, test_size=0.2, random_state=20)"
   ]
  },
  {
   "cell_type": "code",
   "execution_count": 44,
   "metadata": {},
   "outputs": [],
   "source": [
    "# Oversampling\n",
    "\n",
    "resampler = RandomOverSampler()\n",
    "X_train, y_train = resampler.fit_resample(X_train, y_train)"
   ]
  },
  {
   "attachments": {},
   "cell_type": "markdown",
   "metadata": {},
   "source": [
    "# TRAIN-VALIDATION"
   ]
  },
  {
   "attachments": {},
   "cell_type": "markdown",
   "metadata": {},
   "source": [
    "## Model Competition"
   ]
  },
  {
   "cell_type": "code",
   "execution_count": 45,
   "metadata": {},
   "outputs": [],
   "source": [
    "# Calculates AUC of model over a dataset (X-y). Args: model, X, y\n",
    "def auc(model,X,y):\n",
    "  model.fit(X,y)\n",
    "  return roc_auc_score(y,model.predict_proba(X)[:,1])  \n",
    "\n",
    "# Calculates AUC in Cross-Validation (X-y). Args: model, X, y  \n",
    "def auc_cross_validation(model,X,y):\n",
    "  cross_val = cross_val_score(model, \n",
    "                              X, y, \n",
    "                              cv=4,                 # Fold number\n",
    "                              scoring='roc_auc'     # Validation metric\n",
    "                              )    \n",
    "  return cross_val.mean()"
   ]
  },
  {
   "cell_type": "code",
   "execution_count": 46,
   "metadata": {},
   "outputs": [],
   "source": [
    "# Initialize results\n",
    "label_, auc_train_ , auc_valida_ = [], [], []\n",
    "\n",
    "# Completes a dataframe record with the results of the predefined functions (AUC and AUC with cross-validation).\n",
    "\n",
    "# Inputs: \n",
    "#   * model\n",
    "#   * (X,y) \n",
    "#   * specific label if we want to register the result with another name (optional)\n",
    "\n",
    "\n",
    "def evaluate_classification(model, X, y, label=None):\n",
    "  if label is None:\n",
    "    label=str(model)\n",
    "  label_.append(label)\n",
    "  \n",
    "  auc_train = auc(model,X,y)\n",
    "  auc_valida = auc_cross_validation(model,X,y)   \n",
    "  auc_train_.append(auc_train)\n",
    "  auc_valida_.append(auc_valida)\n",
    "\n",
    "  return pd.DataFrame({'Model': label_,\n",
    "                      'AUC Train': auc_train_,\n",
    "                      'AUC Cross-Valida': auc_valida_\n",
    "                      }).sort_values('AUC Cross-Valida',ascending=False)"
   ]
  },
  {
   "attachments": {},
   "cell_type": "markdown",
   "metadata": {},
   "source": [
    "Probamos varios modelos con su configuración por defecto para evaluar cuál ofrece mejores resultados a priori."
   ]
  },
  {
   "cell_type": "code",
   "execution_count": 47,
   "metadata": {},
   "outputs": [
    {
     "data": {
      "text/html": [
       "<div>\n",
       "<style scoped>\n",
       "    .dataframe tbody tr th:only-of-type {\n",
       "        vertical-align: middle;\n",
       "    }\n",
       "\n",
       "    .dataframe tbody tr th {\n",
       "        vertical-align: top;\n",
       "    }\n",
       "\n",
       "    .dataframe thead th {\n",
       "        text-align: right;\n",
       "    }\n",
       "</style>\n",
       "<table border=\"1\" class=\"dataframe\">\n",
       "  <thead>\n",
       "    <tr style=\"text-align: right;\">\n",
       "      <th></th>\n",
       "      <th>Model</th>\n",
       "      <th>AUC Train</th>\n",
       "      <th>AUC Cross-Valida</th>\n",
       "    </tr>\n",
       "  </thead>\n",
       "  <tbody>\n",
       "    <tr>\n",
       "      <th>0</th>\n",
       "      <td>Logistic Regression</td>\n",
       "      <td>0.786883</td>\n",
       "      <td>0.783859</td>\n",
       "    </tr>\n",
       "  </tbody>\n",
       "</table>\n",
       "</div>"
      ],
      "text/plain": [
       "                 Model  AUC Train  AUC Cross-Valida\n",
       "0  Logistic Regression   0.786883          0.783859"
      ]
     },
     "execution_count": 47,
     "metadata": {},
     "output_type": "execute_result"
    }
   ],
   "source": [
    "evaluate_classification(label='Logistic Regression', \n",
    "                    model = LogisticRegression(), \n",
    "                    X=X_train, y=y_train)"
   ]
  },
  {
   "cell_type": "code",
   "execution_count": 48,
   "metadata": {},
   "outputs": [
    {
     "data": {
      "text/html": [
       "<div>\n",
       "<style scoped>\n",
       "    .dataframe tbody tr th:only-of-type {\n",
       "        vertical-align: middle;\n",
       "    }\n",
       "\n",
       "    .dataframe tbody tr th {\n",
       "        vertical-align: top;\n",
       "    }\n",
       "\n",
       "    .dataframe thead th {\n",
       "        text-align: right;\n",
       "    }\n",
       "</style>\n",
       "<table border=\"1\" class=\"dataframe\">\n",
       "  <thead>\n",
       "    <tr style=\"text-align: right;\">\n",
       "      <th></th>\n",
       "      <th>Model</th>\n",
       "      <th>AUC Train</th>\n",
       "      <th>AUC Cross-Valida</th>\n",
       "    </tr>\n",
       "  </thead>\n",
       "  <tbody>\n",
       "    <tr>\n",
       "      <th>1</th>\n",
       "      <td>KNN</td>\n",
       "      <td>0.995011</td>\n",
       "      <td>0.918895</td>\n",
       "    </tr>\n",
       "    <tr>\n",
       "      <th>0</th>\n",
       "      <td>Logistic Regression</td>\n",
       "      <td>0.786883</td>\n",
       "      <td>0.783859</td>\n",
       "    </tr>\n",
       "  </tbody>\n",
       "</table>\n",
       "</div>"
      ],
      "text/plain": [
       "                 Model  AUC Train  AUC Cross-Valida\n",
       "1                  KNN   0.995011          0.918895\n",
       "0  Logistic Regression   0.786883          0.783859"
      ]
     },
     "execution_count": 48,
     "metadata": {},
     "output_type": "execute_result"
    }
   ],
   "source": [
    "evaluate_classification(label='KNN', \n",
    "                    model = KNeighborsClassifier(), \n",
    "                    X=X_train, y=y_train)"
   ]
  },
  {
   "cell_type": "code",
   "execution_count": 49,
   "metadata": {},
   "outputs": [
    {
     "data": {
      "text/html": [
       "<div>\n",
       "<style scoped>\n",
       "    .dataframe tbody tr th:only-of-type {\n",
       "        vertical-align: middle;\n",
       "    }\n",
       "\n",
       "    .dataframe tbody tr th {\n",
       "        vertical-align: top;\n",
       "    }\n",
       "\n",
       "    .dataframe thead th {\n",
       "        text-align: right;\n",
       "    }\n",
       "</style>\n",
       "<table border=\"1\" class=\"dataframe\">\n",
       "  <thead>\n",
       "    <tr style=\"text-align: right;\">\n",
       "      <th></th>\n",
       "      <th>Model</th>\n",
       "      <th>AUC Train</th>\n",
       "      <th>AUC Cross-Valida</th>\n",
       "    </tr>\n",
       "  </thead>\n",
       "  <tbody>\n",
       "    <tr>\n",
       "      <th>1</th>\n",
       "      <td>KNN</td>\n",
       "      <td>0.995011</td>\n",
       "      <td>0.918895</td>\n",
       "    </tr>\n",
       "    <tr>\n",
       "      <th>2</th>\n",
       "      <td>LGBM</td>\n",
       "      <td>0.927268</td>\n",
       "      <td>0.910893</td>\n",
       "    </tr>\n",
       "    <tr>\n",
       "      <th>0</th>\n",
       "      <td>Logistic Regression</td>\n",
       "      <td>0.786883</td>\n",
       "      <td>0.783859</td>\n",
       "    </tr>\n",
       "  </tbody>\n",
       "</table>\n",
       "</div>"
      ],
      "text/plain": [
       "                 Model  AUC Train  AUC Cross-Valida\n",
       "1                  KNN   0.995011          0.918895\n",
       "2                 LGBM   0.927268          0.910893\n",
       "0  Logistic Regression   0.786883          0.783859"
      ]
     },
     "execution_count": 49,
     "metadata": {},
     "output_type": "execute_result"
    }
   ],
   "source": [
    "evaluate_classification(label='LGBM', \n",
    "                    model = LGBMClassifier(), \n",
    "                    X=X_train, y=y_train)"
   ]
  },
  {
   "cell_type": "code",
   "execution_count": 50,
   "metadata": {},
   "outputs": [
    {
     "data": {
      "text/html": [
       "<div>\n",
       "<style scoped>\n",
       "    .dataframe tbody tr th:only-of-type {\n",
       "        vertical-align: middle;\n",
       "    }\n",
       "\n",
       "    .dataframe tbody tr th {\n",
       "        vertical-align: top;\n",
       "    }\n",
       "\n",
       "    .dataframe thead th {\n",
       "        text-align: right;\n",
       "    }\n",
       "</style>\n",
       "<table border=\"1\" class=\"dataframe\">\n",
       "  <thead>\n",
       "    <tr style=\"text-align: right;\">\n",
       "      <th></th>\n",
       "      <th>Model</th>\n",
       "      <th>AUC Train</th>\n",
       "      <th>AUC Cross-Valida</th>\n",
       "    </tr>\n",
       "  </thead>\n",
       "  <tbody>\n",
       "    <tr>\n",
       "      <th>3</th>\n",
       "      <td>XGBoost</td>\n",
       "      <td>0.953965</td>\n",
       "      <td>0.936340</td>\n",
       "    </tr>\n",
       "    <tr>\n",
       "      <th>1</th>\n",
       "      <td>KNN</td>\n",
       "      <td>0.995011</td>\n",
       "      <td>0.918895</td>\n",
       "    </tr>\n",
       "    <tr>\n",
       "      <th>2</th>\n",
       "      <td>LGBM</td>\n",
       "      <td>0.927268</td>\n",
       "      <td>0.910893</td>\n",
       "    </tr>\n",
       "    <tr>\n",
       "      <th>0</th>\n",
       "      <td>Logistic Regression</td>\n",
       "      <td>0.786883</td>\n",
       "      <td>0.783859</td>\n",
       "    </tr>\n",
       "  </tbody>\n",
       "</table>\n",
       "</div>"
      ],
      "text/plain": [
       "                 Model  AUC Train  AUC Cross-Valida\n",
       "3              XGBoost   0.953965          0.936340\n",
       "1                  KNN   0.995011          0.918895\n",
       "2                 LGBM   0.927268          0.910893\n",
       "0  Logistic Regression   0.786883          0.783859"
      ]
     },
     "execution_count": 50,
     "metadata": {},
     "output_type": "execute_result"
    }
   ],
   "source": [
    "evaluate_classification(label='XGBoost', \n",
    "                    model = XGBClassifier(), \n",
    "                    X=X_train, y=y_train)"
   ]
  },
  {
   "cell_type": "code",
   "execution_count": 51,
   "metadata": {},
   "outputs": [
    {
     "data": {
      "text/html": [
       "<div>\n",
       "<style scoped>\n",
       "    .dataframe tbody tr th:only-of-type {\n",
       "        vertical-align: middle;\n",
       "    }\n",
       "\n",
       "    .dataframe tbody tr th {\n",
       "        vertical-align: top;\n",
       "    }\n",
       "\n",
       "    .dataframe thead th {\n",
       "        text-align: right;\n",
       "    }\n",
       "</style>\n",
       "<table border=\"1\" class=\"dataframe\">\n",
       "  <thead>\n",
       "    <tr style=\"text-align: right;\">\n",
       "      <th></th>\n",
       "      <th>Model</th>\n",
       "      <th>AUC Train</th>\n",
       "      <th>AUC Cross-Valida</th>\n",
       "    </tr>\n",
       "  </thead>\n",
       "  <tbody>\n",
       "    <tr>\n",
       "      <th>3</th>\n",
       "      <td>XGBoost</td>\n",
       "      <td>0.953965</td>\n",
       "      <td>0.936340</td>\n",
       "    </tr>\n",
       "    <tr>\n",
       "      <th>1</th>\n",
       "      <td>KNN</td>\n",
       "      <td>0.995011</td>\n",
       "      <td>0.918895</td>\n",
       "    </tr>\n",
       "    <tr>\n",
       "      <th>2</th>\n",
       "      <td>LGBM</td>\n",
       "      <td>0.927268</td>\n",
       "      <td>0.910893</td>\n",
       "    </tr>\n",
       "    <tr>\n",
       "      <th>0</th>\n",
       "      <td>Logistic Regression</td>\n",
       "      <td>0.786883</td>\n",
       "      <td>0.783859</td>\n",
       "    </tr>\n",
       "    <tr>\n",
       "      <th>4</th>\n",
       "      <td>Naive Bayes</td>\n",
       "      <td>0.524277</td>\n",
       "      <td>0.521523</td>\n",
       "    </tr>\n",
       "  </tbody>\n",
       "</table>\n",
       "</div>"
      ],
      "text/plain": [
       "                 Model  AUC Train  AUC Cross-Valida\n",
       "3              XGBoost   0.953965          0.936340\n",
       "1                  KNN   0.995011          0.918895\n",
       "2                 LGBM   0.927268          0.910893\n",
       "0  Logistic Regression   0.786883          0.783859\n",
       "4          Naive Bayes   0.524277          0.521523"
      ]
     },
     "execution_count": 51,
     "metadata": {},
     "output_type": "execute_result"
    }
   ],
   "source": [
    "evaluate_classification(label='Naive Bayes', \n",
    "                    model = GaussianNB(), \n",
    "                    X=X_train, y=y_train)"
   ]
  },
  {
   "cell_type": "code",
   "execution_count": 52,
   "metadata": {},
   "outputs": [
    {
     "data": {
      "text/html": [
       "<div>\n",
       "<style scoped>\n",
       "    .dataframe tbody tr th:only-of-type {\n",
       "        vertical-align: middle;\n",
       "    }\n",
       "\n",
       "    .dataframe tbody tr th {\n",
       "        vertical-align: top;\n",
       "    }\n",
       "\n",
       "    .dataframe thead th {\n",
       "        text-align: right;\n",
       "    }\n",
       "</style>\n",
       "<table border=\"1\" class=\"dataframe\">\n",
       "  <thead>\n",
       "    <tr style=\"text-align: right;\">\n",
       "      <th></th>\n",
       "      <th>Model</th>\n",
       "      <th>AUC Train</th>\n",
       "      <th>AUC Cross-Valida</th>\n",
       "    </tr>\n",
       "  </thead>\n",
       "  <tbody>\n",
       "    <tr>\n",
       "      <th>3</th>\n",
       "      <td>XGBoost</td>\n",
       "      <td>0.953965</td>\n",
       "      <td>0.936340</td>\n",
       "    </tr>\n",
       "    <tr>\n",
       "      <th>1</th>\n",
       "      <td>KNN</td>\n",
       "      <td>0.995011</td>\n",
       "      <td>0.918895</td>\n",
       "    </tr>\n",
       "    <tr>\n",
       "      <th>2</th>\n",
       "      <td>LGBM</td>\n",
       "      <td>0.927268</td>\n",
       "      <td>0.910893</td>\n",
       "    </tr>\n",
       "    <tr>\n",
       "      <th>5</th>\n",
       "      <td>ANN</td>\n",
       "      <td>0.935644</td>\n",
       "      <td>0.908010</td>\n",
       "    </tr>\n",
       "    <tr>\n",
       "      <th>0</th>\n",
       "      <td>Logistic Regression</td>\n",
       "      <td>0.786883</td>\n",
       "      <td>0.783859</td>\n",
       "    </tr>\n",
       "    <tr>\n",
       "      <th>4</th>\n",
       "      <td>Naive Bayes</td>\n",
       "      <td>0.524277</td>\n",
       "      <td>0.521523</td>\n",
       "    </tr>\n",
       "  </tbody>\n",
       "</table>\n",
       "</div>"
      ],
      "text/plain": [
       "                 Model  AUC Train  AUC Cross-Valida\n",
       "3              XGBoost   0.953965          0.936340\n",
       "1                  KNN   0.995011          0.918895\n",
       "2                 LGBM   0.927268          0.910893\n",
       "5                  ANN   0.935644          0.908010\n",
       "0  Logistic Regression   0.786883          0.783859\n",
       "4          Naive Bayes   0.524277          0.521523"
      ]
     },
     "execution_count": 52,
     "metadata": {},
     "output_type": "execute_result"
    }
   ],
   "source": [
    "evaluate_classification(label='ANN', \n",
    "                    model = MLPClassifier(), \n",
    "                    X=X_train, y=y_train)"
   ]
  },
  {
   "cell_type": "code",
   "execution_count": 53,
   "metadata": {},
   "outputs": [
    {
     "data": {
      "text/html": [
       "<div>\n",
       "<style scoped>\n",
       "    .dataframe tbody tr th:only-of-type {\n",
       "        vertical-align: middle;\n",
       "    }\n",
       "\n",
       "    .dataframe tbody tr th {\n",
       "        vertical-align: top;\n",
       "    }\n",
       "\n",
       "    .dataframe thead th {\n",
       "        text-align: right;\n",
       "    }\n",
       "</style>\n",
       "<table border=\"1\" class=\"dataframe\">\n",
       "  <thead>\n",
       "    <tr style=\"text-align: right;\">\n",
       "      <th></th>\n",
       "      <th>Model</th>\n",
       "      <th>AUC Train</th>\n",
       "      <th>AUC Cross-Valida</th>\n",
       "    </tr>\n",
       "  </thead>\n",
       "  <tbody>\n",
       "    <tr>\n",
       "      <th>3</th>\n",
       "      <td>XGBoost</td>\n",
       "      <td>0.953965</td>\n",
       "      <td>0.936340</td>\n",
       "    </tr>\n",
       "    <tr>\n",
       "      <th>1</th>\n",
       "      <td>KNN</td>\n",
       "      <td>0.995011</td>\n",
       "      <td>0.918895</td>\n",
       "    </tr>\n",
       "    <tr>\n",
       "      <th>2</th>\n",
       "      <td>LGBM</td>\n",
       "      <td>0.927268</td>\n",
       "      <td>0.910893</td>\n",
       "    </tr>\n",
       "    <tr>\n",
       "      <th>5</th>\n",
       "      <td>ANN</td>\n",
       "      <td>0.935644</td>\n",
       "      <td>0.908010</td>\n",
       "    </tr>\n",
       "    <tr>\n",
       "      <th>6</th>\n",
       "      <td>Ada Boost</td>\n",
       "      <td>0.823592</td>\n",
       "      <td>0.820936</td>\n",
       "    </tr>\n",
       "    <tr>\n",
       "      <th>0</th>\n",
       "      <td>Logistic Regression</td>\n",
       "      <td>0.786883</td>\n",
       "      <td>0.783859</td>\n",
       "    </tr>\n",
       "    <tr>\n",
       "      <th>4</th>\n",
       "      <td>Naive Bayes</td>\n",
       "      <td>0.524277</td>\n",
       "      <td>0.521523</td>\n",
       "    </tr>\n",
       "  </tbody>\n",
       "</table>\n",
       "</div>"
      ],
      "text/plain": [
       "                 Model  AUC Train  AUC Cross-Valida\n",
       "3              XGBoost   0.953965          0.936340\n",
       "1                  KNN   0.995011          0.918895\n",
       "2                 LGBM   0.927268          0.910893\n",
       "5                  ANN   0.935644          0.908010\n",
       "6            Ada Boost   0.823592          0.820936\n",
       "0  Logistic Regression   0.786883          0.783859\n",
       "4          Naive Bayes   0.524277          0.521523"
      ]
     },
     "execution_count": 53,
     "metadata": {},
     "output_type": "execute_result"
    }
   ],
   "source": [
    "evaluate_classification(label='Ada Boost', \n",
    "                    model = AdaBoostClassifier(), \n",
    "                    X=X_train, y=y_train)"
   ]
  },
  {
   "cell_type": "code",
   "execution_count": 54,
   "metadata": {},
   "outputs": [
    {
     "data": {
      "text/html": [
       "<div>\n",
       "<style scoped>\n",
       "    .dataframe tbody tr th:only-of-type {\n",
       "        vertical-align: middle;\n",
       "    }\n",
       "\n",
       "    .dataframe tbody tr th {\n",
       "        vertical-align: top;\n",
       "    }\n",
       "\n",
       "    .dataframe thead th {\n",
       "        text-align: right;\n",
       "    }\n",
       "</style>\n",
       "<table border=\"1\" class=\"dataframe\">\n",
       "  <thead>\n",
       "    <tr style=\"text-align: right;\">\n",
       "      <th></th>\n",
       "      <th>Model</th>\n",
       "      <th>AUC Train</th>\n",
       "      <th>AUC Cross-Valida</th>\n",
       "    </tr>\n",
       "  </thead>\n",
       "  <tbody>\n",
       "    <tr>\n",
       "      <th>7</th>\n",
       "      <td>Bagging</td>\n",
       "      <td>0.999966</td>\n",
       "      <td>0.993563</td>\n",
       "    </tr>\n",
       "    <tr>\n",
       "      <th>3</th>\n",
       "      <td>XGBoost</td>\n",
       "      <td>0.953965</td>\n",
       "      <td>0.936340</td>\n",
       "    </tr>\n",
       "    <tr>\n",
       "      <th>1</th>\n",
       "      <td>KNN</td>\n",
       "      <td>0.995011</td>\n",
       "      <td>0.918895</td>\n",
       "    </tr>\n",
       "    <tr>\n",
       "      <th>2</th>\n",
       "      <td>LGBM</td>\n",
       "      <td>0.927268</td>\n",
       "      <td>0.910893</td>\n",
       "    </tr>\n",
       "    <tr>\n",
       "      <th>5</th>\n",
       "      <td>ANN</td>\n",
       "      <td>0.935644</td>\n",
       "      <td>0.908010</td>\n",
       "    </tr>\n",
       "    <tr>\n",
       "      <th>6</th>\n",
       "      <td>Ada Boost</td>\n",
       "      <td>0.823592</td>\n",
       "      <td>0.820936</td>\n",
       "    </tr>\n",
       "    <tr>\n",
       "      <th>0</th>\n",
       "      <td>Logistic Regression</td>\n",
       "      <td>0.786883</td>\n",
       "      <td>0.783859</td>\n",
       "    </tr>\n",
       "    <tr>\n",
       "      <th>4</th>\n",
       "      <td>Naive Bayes</td>\n",
       "      <td>0.524277</td>\n",
       "      <td>0.521523</td>\n",
       "    </tr>\n",
       "  </tbody>\n",
       "</table>\n",
       "</div>"
      ],
      "text/plain": [
       "                 Model  AUC Train  AUC Cross-Valida\n",
       "7              Bagging   0.999966          0.993563\n",
       "3              XGBoost   0.953965          0.936340\n",
       "1                  KNN   0.995011          0.918895\n",
       "2                 LGBM   0.927268          0.910893\n",
       "5                  ANN   0.935644          0.908010\n",
       "6            Ada Boost   0.823592          0.820936\n",
       "0  Logistic Regression   0.786883          0.783859\n",
       "4          Naive Bayes   0.524277          0.521523"
      ]
     },
     "execution_count": 54,
     "metadata": {},
     "output_type": "execute_result"
    }
   ],
   "source": [
    "evaluate_classification(label='Bagging', \n",
    "                    model = BaggingClassifier(), \n",
    "                    X=X_train, y=y_train)"
   ]
  },
  {
   "cell_type": "code",
   "execution_count": 55,
   "metadata": {},
   "outputs": [
    {
     "data": {
      "text/html": [
       "<div>\n",
       "<style scoped>\n",
       "    .dataframe tbody tr th:only-of-type {\n",
       "        vertical-align: middle;\n",
       "    }\n",
       "\n",
       "    .dataframe tbody tr th {\n",
       "        vertical-align: top;\n",
       "    }\n",
       "\n",
       "    .dataframe thead th {\n",
       "        text-align: right;\n",
       "    }\n",
       "</style>\n",
       "<table border=\"1\" class=\"dataframe\">\n",
       "  <thead>\n",
       "    <tr style=\"text-align: right;\">\n",
       "      <th></th>\n",
       "      <th>Model</th>\n",
       "      <th>AUC Train</th>\n",
       "      <th>AUC Cross-Valida</th>\n",
       "    </tr>\n",
       "  </thead>\n",
       "  <tbody>\n",
       "    <tr>\n",
       "      <th>8</th>\n",
       "      <td>Extra Trees</td>\n",
       "      <td>0.999983</td>\n",
       "      <td>0.998261</td>\n",
       "    </tr>\n",
       "    <tr>\n",
       "      <th>7</th>\n",
       "      <td>Bagging</td>\n",
       "      <td>0.999966</td>\n",
       "      <td>0.993563</td>\n",
       "    </tr>\n",
       "    <tr>\n",
       "      <th>3</th>\n",
       "      <td>XGBoost</td>\n",
       "      <td>0.953965</td>\n",
       "      <td>0.936340</td>\n",
       "    </tr>\n",
       "    <tr>\n",
       "      <th>1</th>\n",
       "      <td>KNN</td>\n",
       "      <td>0.995011</td>\n",
       "      <td>0.918895</td>\n",
       "    </tr>\n",
       "    <tr>\n",
       "      <th>2</th>\n",
       "      <td>LGBM</td>\n",
       "      <td>0.927268</td>\n",
       "      <td>0.910893</td>\n",
       "    </tr>\n",
       "    <tr>\n",
       "      <th>5</th>\n",
       "      <td>ANN</td>\n",
       "      <td>0.935644</td>\n",
       "      <td>0.908010</td>\n",
       "    </tr>\n",
       "    <tr>\n",
       "      <th>6</th>\n",
       "      <td>Ada Boost</td>\n",
       "      <td>0.823592</td>\n",
       "      <td>0.820936</td>\n",
       "    </tr>\n",
       "    <tr>\n",
       "      <th>0</th>\n",
       "      <td>Logistic Regression</td>\n",
       "      <td>0.786883</td>\n",
       "      <td>0.783859</td>\n",
       "    </tr>\n",
       "    <tr>\n",
       "      <th>4</th>\n",
       "      <td>Naive Bayes</td>\n",
       "      <td>0.524277</td>\n",
       "      <td>0.521523</td>\n",
       "    </tr>\n",
       "  </tbody>\n",
       "</table>\n",
       "</div>"
      ],
      "text/plain": [
       "                 Model  AUC Train  AUC Cross-Valida\n",
       "8          Extra Trees   0.999983          0.998261\n",
       "7              Bagging   0.999966          0.993563\n",
       "3              XGBoost   0.953965          0.936340\n",
       "1                  KNN   0.995011          0.918895\n",
       "2                 LGBM   0.927268          0.910893\n",
       "5                  ANN   0.935644          0.908010\n",
       "6            Ada Boost   0.823592          0.820936\n",
       "0  Logistic Regression   0.786883          0.783859\n",
       "4          Naive Bayes   0.524277          0.521523"
      ]
     },
     "execution_count": 55,
     "metadata": {},
     "output_type": "execute_result"
    }
   ],
   "source": [
    "evaluate_classification(label='Extra Trees', \n",
    "                    model = ExtraTreesClassifier(), \n",
    "                    X=X_train, y=y_train)"
   ]
  },
  {
   "cell_type": "code",
   "execution_count": 56,
   "metadata": {},
   "outputs": [
    {
     "data": {
      "text/html": [
       "<div>\n",
       "<style scoped>\n",
       "    .dataframe tbody tr th:only-of-type {\n",
       "        vertical-align: middle;\n",
       "    }\n",
       "\n",
       "    .dataframe tbody tr th {\n",
       "        vertical-align: top;\n",
       "    }\n",
       "\n",
       "    .dataframe thead th {\n",
       "        text-align: right;\n",
       "    }\n",
       "</style>\n",
       "<table border=\"1\" class=\"dataframe\">\n",
       "  <thead>\n",
       "    <tr style=\"text-align: right;\">\n",
       "      <th></th>\n",
       "      <th>Model</th>\n",
       "      <th>AUC Train</th>\n",
       "      <th>AUC Cross-Valida</th>\n",
       "    </tr>\n",
       "  </thead>\n",
       "  <tbody>\n",
       "    <tr>\n",
       "      <th>8</th>\n",
       "      <td>Extra Trees</td>\n",
       "      <td>0.999983</td>\n",
       "      <td>0.998261</td>\n",
       "    </tr>\n",
       "    <tr>\n",
       "      <th>7</th>\n",
       "      <td>Bagging</td>\n",
       "      <td>0.999966</td>\n",
       "      <td>0.993563</td>\n",
       "    </tr>\n",
       "    <tr>\n",
       "      <th>3</th>\n",
       "      <td>XGBoost</td>\n",
       "      <td>0.953965</td>\n",
       "      <td>0.936340</td>\n",
       "    </tr>\n",
       "    <tr>\n",
       "      <th>1</th>\n",
       "      <td>KNN</td>\n",
       "      <td>0.995011</td>\n",
       "      <td>0.918895</td>\n",
       "    </tr>\n",
       "    <tr>\n",
       "      <th>2</th>\n",
       "      <td>LGBM</td>\n",
       "      <td>0.927268</td>\n",
       "      <td>0.910893</td>\n",
       "    </tr>\n",
       "    <tr>\n",
       "      <th>5</th>\n",
       "      <td>ANN</td>\n",
       "      <td>0.935644</td>\n",
       "      <td>0.908010</td>\n",
       "    </tr>\n",
       "    <tr>\n",
       "      <th>9</th>\n",
       "      <td>Gradient Boost</td>\n",
       "      <td>0.861071</td>\n",
       "      <td>0.856180</td>\n",
       "    </tr>\n",
       "    <tr>\n",
       "      <th>6</th>\n",
       "      <td>Ada Boost</td>\n",
       "      <td>0.823592</td>\n",
       "      <td>0.820936</td>\n",
       "    </tr>\n",
       "    <tr>\n",
       "      <th>0</th>\n",
       "      <td>Logistic Regression</td>\n",
       "      <td>0.786883</td>\n",
       "      <td>0.783859</td>\n",
       "    </tr>\n",
       "    <tr>\n",
       "      <th>4</th>\n",
       "      <td>Naive Bayes</td>\n",
       "      <td>0.524277</td>\n",
       "      <td>0.521523</td>\n",
       "    </tr>\n",
       "  </tbody>\n",
       "</table>\n",
       "</div>"
      ],
      "text/plain": [
       "                 Model  AUC Train  AUC Cross-Valida\n",
       "8          Extra Trees   0.999983          0.998261\n",
       "7              Bagging   0.999966          0.993563\n",
       "3              XGBoost   0.953965          0.936340\n",
       "1                  KNN   0.995011          0.918895\n",
       "2                 LGBM   0.927268          0.910893\n",
       "5                  ANN   0.935644          0.908010\n",
       "9       Gradient Boost   0.861071          0.856180\n",
       "6            Ada Boost   0.823592          0.820936\n",
       "0  Logistic Regression   0.786883          0.783859\n",
       "4          Naive Bayes   0.524277          0.521523"
      ]
     },
     "execution_count": 56,
     "metadata": {},
     "output_type": "execute_result"
    }
   ],
   "source": [
    "evaluate_classification(label='Gradient Boost', \n",
    "                    model = GradientBoostingClassifier(), \n",
    "                    X=X_train, y=y_train)"
   ]
  },
  {
   "cell_type": "code",
   "execution_count": 57,
   "metadata": {},
   "outputs": [
    {
     "data": {
      "text/html": [
       "<div>\n",
       "<style scoped>\n",
       "    .dataframe tbody tr th:only-of-type {\n",
       "        vertical-align: middle;\n",
       "    }\n",
       "\n",
       "    .dataframe tbody tr th {\n",
       "        vertical-align: top;\n",
       "    }\n",
       "\n",
       "    .dataframe thead th {\n",
       "        text-align: right;\n",
       "    }\n",
       "</style>\n",
       "<table border=\"1\" class=\"dataframe\">\n",
       "  <thead>\n",
       "    <tr style=\"text-align: right;\">\n",
       "      <th></th>\n",
       "      <th>Model</th>\n",
       "      <th>AUC Train</th>\n",
       "      <th>AUC Cross-Valida</th>\n",
       "    </tr>\n",
       "  </thead>\n",
       "  <tbody>\n",
       "    <tr>\n",
       "      <th>8</th>\n",
       "      <td>Extra Trees</td>\n",
       "      <td>0.999983</td>\n",
       "      <td>0.998261</td>\n",
       "    </tr>\n",
       "    <tr>\n",
       "      <th>10</th>\n",
       "      <td>Random Forest</td>\n",
       "      <td>0.999979</td>\n",
       "      <td>0.997893</td>\n",
       "    </tr>\n",
       "    <tr>\n",
       "      <th>7</th>\n",
       "      <td>Bagging</td>\n",
       "      <td>0.999966</td>\n",
       "      <td>0.993563</td>\n",
       "    </tr>\n",
       "    <tr>\n",
       "      <th>3</th>\n",
       "      <td>XGBoost</td>\n",
       "      <td>0.953965</td>\n",
       "      <td>0.936340</td>\n",
       "    </tr>\n",
       "    <tr>\n",
       "      <th>1</th>\n",
       "      <td>KNN</td>\n",
       "      <td>0.995011</td>\n",
       "      <td>0.918895</td>\n",
       "    </tr>\n",
       "    <tr>\n",
       "      <th>2</th>\n",
       "      <td>LGBM</td>\n",
       "      <td>0.927268</td>\n",
       "      <td>0.910893</td>\n",
       "    </tr>\n",
       "    <tr>\n",
       "      <th>5</th>\n",
       "      <td>ANN</td>\n",
       "      <td>0.935644</td>\n",
       "      <td>0.908010</td>\n",
       "    </tr>\n",
       "    <tr>\n",
       "      <th>9</th>\n",
       "      <td>Gradient Boost</td>\n",
       "      <td>0.861071</td>\n",
       "      <td>0.856180</td>\n",
       "    </tr>\n",
       "    <tr>\n",
       "      <th>6</th>\n",
       "      <td>Ada Boost</td>\n",
       "      <td>0.823592</td>\n",
       "      <td>0.820936</td>\n",
       "    </tr>\n",
       "    <tr>\n",
       "      <th>0</th>\n",
       "      <td>Logistic Regression</td>\n",
       "      <td>0.786883</td>\n",
       "      <td>0.783859</td>\n",
       "    </tr>\n",
       "    <tr>\n",
       "      <th>4</th>\n",
       "      <td>Naive Bayes</td>\n",
       "      <td>0.524277</td>\n",
       "      <td>0.521523</td>\n",
       "    </tr>\n",
       "  </tbody>\n",
       "</table>\n",
       "</div>"
      ],
      "text/plain": [
       "                  Model  AUC Train  AUC Cross-Valida\n",
       "8           Extra Trees   0.999983          0.998261\n",
       "10        Random Forest   0.999979          0.997893\n",
       "7               Bagging   0.999966          0.993563\n",
       "3               XGBoost   0.953965          0.936340\n",
       "1                   KNN   0.995011          0.918895\n",
       "2                  LGBM   0.927268          0.910893\n",
       "5                   ANN   0.935644          0.908010\n",
       "9        Gradient Boost   0.861071          0.856180\n",
       "6             Ada Boost   0.823592          0.820936\n",
       "0   Logistic Regression   0.786883          0.783859\n",
       "4           Naive Bayes   0.524277          0.521523"
      ]
     },
     "execution_count": 57,
     "metadata": {},
     "output_type": "execute_result"
    }
   ],
   "source": [
    "evaluate_classification(label='Random Forest', \n",
    "                    model = RandomForestClassifier(), \n",
    "                    X=X_train, y=y_train)"
   ]
  },
  {
   "cell_type": "code",
   "execution_count": 58,
   "metadata": {},
   "outputs": [
    {
     "data": {
      "text/html": [
       "<div>\n",
       "<style scoped>\n",
       "    .dataframe tbody tr th:only-of-type {\n",
       "        vertical-align: middle;\n",
       "    }\n",
       "\n",
       "    .dataframe tbody tr th {\n",
       "        vertical-align: top;\n",
       "    }\n",
       "\n",
       "    .dataframe thead th {\n",
       "        text-align: right;\n",
       "    }\n",
       "</style>\n",
       "<table border=\"1\" class=\"dataframe\">\n",
       "  <thead>\n",
       "    <tr style=\"text-align: right;\">\n",
       "      <th></th>\n",
       "      <th>Model</th>\n",
       "      <th>AUC Train</th>\n",
       "      <th>AUC Cross-Valida</th>\n",
       "    </tr>\n",
       "  </thead>\n",
       "  <tbody>\n",
       "    <tr>\n",
       "      <th>8</th>\n",
       "      <td>Extra Trees</td>\n",
       "      <td>0.999983</td>\n",
       "      <td>0.998261</td>\n",
       "    </tr>\n",
       "    <tr>\n",
       "      <th>10</th>\n",
       "      <td>Random Forest</td>\n",
       "      <td>0.999979</td>\n",
       "      <td>0.997893</td>\n",
       "    </tr>\n",
       "    <tr>\n",
       "      <th>7</th>\n",
       "      <td>Bagging</td>\n",
       "      <td>0.999966</td>\n",
       "      <td>0.993563</td>\n",
       "    </tr>\n",
       "    <tr>\n",
       "      <th>3</th>\n",
       "      <td>XGBoost</td>\n",
       "      <td>0.953965</td>\n",
       "      <td>0.936340</td>\n",
       "    </tr>\n",
       "    <tr>\n",
       "      <th>1</th>\n",
       "      <td>KNN</td>\n",
       "      <td>0.995011</td>\n",
       "      <td>0.918895</td>\n",
       "    </tr>\n",
       "    <tr>\n",
       "      <th>2</th>\n",
       "      <td>LGBM</td>\n",
       "      <td>0.927268</td>\n",
       "      <td>0.910893</td>\n",
       "    </tr>\n",
       "    <tr>\n",
       "      <th>11</th>\n",
       "      <td>Hist Gradient</td>\n",
       "      <td>0.924575</td>\n",
       "      <td>0.910548</td>\n",
       "    </tr>\n",
       "    <tr>\n",
       "      <th>5</th>\n",
       "      <td>ANN</td>\n",
       "      <td>0.935644</td>\n",
       "      <td>0.908010</td>\n",
       "    </tr>\n",
       "    <tr>\n",
       "      <th>9</th>\n",
       "      <td>Gradient Boost</td>\n",
       "      <td>0.861071</td>\n",
       "      <td>0.856180</td>\n",
       "    </tr>\n",
       "    <tr>\n",
       "      <th>6</th>\n",
       "      <td>Ada Boost</td>\n",
       "      <td>0.823592</td>\n",
       "      <td>0.820936</td>\n",
       "    </tr>\n",
       "    <tr>\n",
       "      <th>0</th>\n",
       "      <td>Logistic Regression</td>\n",
       "      <td>0.786883</td>\n",
       "      <td>0.783859</td>\n",
       "    </tr>\n",
       "    <tr>\n",
       "      <th>4</th>\n",
       "      <td>Naive Bayes</td>\n",
       "      <td>0.524277</td>\n",
       "      <td>0.521523</td>\n",
       "    </tr>\n",
       "  </tbody>\n",
       "</table>\n",
       "</div>"
      ],
      "text/plain": [
       "                  Model  AUC Train  AUC Cross-Valida\n",
       "8           Extra Trees   0.999983          0.998261\n",
       "10        Random Forest   0.999979          0.997893\n",
       "7               Bagging   0.999966          0.993563\n",
       "3               XGBoost   0.953965          0.936340\n",
       "1                   KNN   0.995011          0.918895\n",
       "2                  LGBM   0.927268          0.910893\n",
       "11        Hist Gradient   0.924575          0.910548\n",
       "5                   ANN   0.935644          0.908010\n",
       "9        Gradient Boost   0.861071          0.856180\n",
       "6             Ada Boost   0.823592          0.820936\n",
       "0   Logistic Regression   0.786883          0.783859\n",
       "4           Naive Bayes   0.524277          0.521523"
      ]
     },
     "execution_count": 58,
     "metadata": {},
     "output_type": "execute_result"
    }
   ],
   "source": [
    "evaluate_classification(label='Hist Gradient', \n",
    "                    model = HistGradientBoostingClassifier(), \n",
    "                    X=X_train, y=y_train)"
   ]
  },
  {
   "attachments": {},
   "cell_type": "markdown",
   "metadata": {},
   "source": [
    "Viendo los resultados, se ha optado por XGBoost ya que, tras realizar varias pruebas, Extra Trees, Random Forest y Bagging no ofrecen los mejores resultados a la hora de predecir el conjunto de test.\n",
    "\n",
    "XGBoost es altamente eficiente y escalable, con unas velocidades de prediccion relativamente altas.\n",
    "Además, XGBoost es consistente ante datos con outliers, como sucede en este dataset."
   ]
  },
  {
   "cell_type": "code",
   "execution_count": 46,
   "metadata": {},
   "outputs": [],
   "source": [
    "params = {\n",
    "    'learning_rate': [0.1, 0.01, 0.001],\n",
    "    'max_depth': [3, 6, 9],\n",
    "    'n_estimators': [100, 500, 1000],\n",
    "    'subsample': [0.8, 0.9, 1.0],\n",
    "    'colsample_bytree': [0.8, 0.9, 1.0],\n",
    "    'min_child_samples': [10, 20, 30],\n",
    "    'reg_alpha': [0, 0.1, 0.5],\n",
    "    'reg_lambda': [0, 0.1, 0.5]\n",
    "}"
   ]
  },
  {
   "cell_type": "code",
   "execution_count": 47,
   "metadata": {},
   "outputs": [],
   "source": [
    "search_hp = RandomizedSearchCV(estimator = XGBClassifier(), \n",
    "                   param_distributions = params, \n",
    "                   n_iter = 8, \n",
    "                   scoring= 'roc_auc',\n",
    "                   n_jobs= -1, \n",
    "                   cv= 3,\n",
    "                   verbose=True)"
   ]
  },
  {
   "cell_type": "code",
   "execution_count": 48,
   "metadata": {},
   "outputs": [
    {
     "name": "stdout",
     "output_type": "stream",
     "text": [
      "Fitting 3 folds for each of 8 candidates, totalling 24 fits\n",
      "[15:54:54] WARNING: C:\\buildkite-agent\\builds\\buildkite-windows-cpu-autoscaling-group-i-07593ffd91cd9da33-1\\xgboost\\xgboost-ci-windows\\src\\learner.cc:767: \n",
      "Parameters: { \"min_child_samples\", \"num_leaves\" } are not used.\n",
      "\n"
     ]
    },
    {
     "data": {
      "text/html": [
       "<style>#sk-container-id-1 {color: black;background-color: white;}#sk-container-id-1 pre{padding: 0;}#sk-container-id-1 div.sk-toggleable {background-color: white;}#sk-container-id-1 label.sk-toggleable__label {cursor: pointer;display: block;width: 100%;margin-bottom: 0;padding: 0.3em;box-sizing: border-box;text-align: center;}#sk-container-id-1 label.sk-toggleable__label-arrow:before {content: \"▸\";float: left;margin-right: 0.25em;color: #696969;}#sk-container-id-1 label.sk-toggleable__label-arrow:hover:before {color: black;}#sk-container-id-1 div.sk-estimator:hover label.sk-toggleable__label-arrow:before {color: black;}#sk-container-id-1 div.sk-toggleable__content {max-height: 0;max-width: 0;overflow: hidden;text-align: left;background-color: #f0f8ff;}#sk-container-id-1 div.sk-toggleable__content pre {margin: 0.2em;color: black;border-radius: 0.25em;background-color: #f0f8ff;}#sk-container-id-1 input.sk-toggleable__control:checked~div.sk-toggleable__content {max-height: 200px;max-width: 100%;overflow: auto;}#sk-container-id-1 input.sk-toggleable__control:checked~label.sk-toggleable__label-arrow:before {content: \"▾\";}#sk-container-id-1 div.sk-estimator input.sk-toggleable__control:checked~label.sk-toggleable__label {background-color: #d4ebff;}#sk-container-id-1 div.sk-label input.sk-toggleable__control:checked~label.sk-toggleable__label {background-color: #d4ebff;}#sk-container-id-1 input.sk-hidden--visually {border: 0;clip: rect(1px 1px 1px 1px);clip: rect(1px, 1px, 1px, 1px);height: 1px;margin: -1px;overflow: hidden;padding: 0;position: absolute;width: 1px;}#sk-container-id-1 div.sk-estimator {font-family: monospace;background-color: #f0f8ff;border: 1px dotted black;border-radius: 0.25em;box-sizing: border-box;margin-bottom: 0.5em;}#sk-container-id-1 div.sk-estimator:hover {background-color: #d4ebff;}#sk-container-id-1 div.sk-parallel-item::after {content: \"\";width: 100%;border-bottom: 1px solid gray;flex-grow: 1;}#sk-container-id-1 div.sk-label:hover label.sk-toggleable__label {background-color: #d4ebff;}#sk-container-id-1 div.sk-serial::before {content: \"\";position: absolute;border-left: 1px solid gray;box-sizing: border-box;top: 0;bottom: 0;left: 50%;z-index: 0;}#sk-container-id-1 div.sk-serial {display: flex;flex-direction: column;align-items: center;background-color: white;padding-right: 0.2em;padding-left: 0.2em;position: relative;}#sk-container-id-1 div.sk-item {position: relative;z-index: 1;}#sk-container-id-1 div.sk-parallel {display: flex;align-items: stretch;justify-content: center;background-color: white;position: relative;}#sk-container-id-1 div.sk-item::before, #sk-container-id-1 div.sk-parallel-item::before {content: \"\";position: absolute;border-left: 1px solid gray;box-sizing: border-box;top: 0;bottom: 0;left: 50%;z-index: -1;}#sk-container-id-1 div.sk-parallel-item {display: flex;flex-direction: column;z-index: 1;position: relative;background-color: white;}#sk-container-id-1 div.sk-parallel-item:first-child::after {align-self: flex-end;width: 50%;}#sk-container-id-1 div.sk-parallel-item:last-child::after {align-self: flex-start;width: 50%;}#sk-container-id-1 div.sk-parallel-item:only-child::after {width: 0;}#sk-container-id-1 div.sk-dashed-wrapped {border: 1px dashed gray;margin: 0 0.4em 0.5em 0.4em;box-sizing: border-box;padding-bottom: 0.4em;background-color: white;}#sk-container-id-1 div.sk-label label {font-family: monospace;font-weight: bold;display: inline-block;line-height: 1.2em;}#sk-container-id-1 div.sk-label-container {text-align: center;}#sk-container-id-1 div.sk-container {/* jupyter's `normalize.less` sets `[hidden] { display: none; }` but bootstrap.min.css set `[hidden] { display: none !important; }` so we also need the `!important` here to be able to override the default hidden behavior on the sphinx rendered scikit-learn.org. See: https://github.com/scikit-learn/scikit-learn/issues/21755 */display: inline-block !important;position: relative;}#sk-container-id-1 div.sk-text-repr-fallback {display: none;}</style><div id=\"sk-container-id-1\" class=\"sk-top-container\"><div class=\"sk-text-repr-fallback\"><pre>RandomizedSearchCV(cv=3,\n",
       "                   estimator=XGBClassifier(base_score=None, booster=None,\n",
       "                                           callbacks=None,\n",
       "                                           colsample_bylevel=None,\n",
       "                                           colsample_bynode=None,\n",
       "                                           colsample_bytree=None,\n",
       "                                           early_stopping_rounds=None,\n",
       "                                           enable_categorical=False,\n",
       "                                           eval_metric=None, feature_types=None,\n",
       "                                           gamma=None, gpu_id=None,\n",
       "                                           grow_policy=None,\n",
       "                                           importance_type=None,\n",
       "                                           interaction_constraints=None,\n",
       "                                           learning_rate...\n",
       "                                           predictor=None, random_state=None, ...),\n",
       "                   n_iter=8, n_jobs=-1,\n",
       "                   param_distributions={&#x27;colsample_bytree&#x27;: [0.8, 0.9, 1.0],\n",
       "                                        &#x27;learning_rate&#x27;: [0.1, 0.01, 0.001],\n",
       "                                        &#x27;max_depth&#x27;: [3, 6, 9],\n",
       "                                        &#x27;min_child_samples&#x27;: [10, 20, 30],\n",
       "                                        &#x27;n_estimators&#x27;: [100, 500, 1000],\n",
       "                                        &#x27;num_leaves&#x27;: [31, 63, 127],\n",
       "                                        &#x27;reg_alpha&#x27;: [0, 0.1, 0.5],\n",
       "                                        &#x27;reg_lambda&#x27;: [0, 0.1, 0.5],\n",
       "                                        &#x27;subsample&#x27;: [0.8, 0.9, 1.0]},\n",
       "                   scoring=&#x27;roc_auc&#x27;, verbose=True)</pre><b>In a Jupyter environment, please rerun this cell to show the HTML representation or trust the notebook. <br />On GitHub, the HTML representation is unable to render, please try loading this page with nbviewer.org.</b></div><div class=\"sk-container\" hidden><div class=\"sk-item sk-dashed-wrapped\"><div class=\"sk-label-container\"><div class=\"sk-label sk-toggleable\"><input class=\"sk-toggleable__control sk-hidden--visually\" id=\"sk-estimator-id-1\" type=\"checkbox\" ><label for=\"sk-estimator-id-1\" class=\"sk-toggleable__label sk-toggleable__label-arrow\">RandomizedSearchCV</label><div class=\"sk-toggleable__content\"><pre>RandomizedSearchCV(cv=3,\n",
       "                   estimator=XGBClassifier(base_score=None, booster=None,\n",
       "                                           callbacks=None,\n",
       "                                           colsample_bylevel=None,\n",
       "                                           colsample_bynode=None,\n",
       "                                           colsample_bytree=None,\n",
       "                                           early_stopping_rounds=None,\n",
       "                                           enable_categorical=False,\n",
       "                                           eval_metric=None, feature_types=None,\n",
       "                                           gamma=None, gpu_id=None,\n",
       "                                           grow_policy=None,\n",
       "                                           importance_type=None,\n",
       "                                           interaction_constraints=None,\n",
       "                                           learning_rate...\n",
       "                                           predictor=None, random_state=None, ...),\n",
       "                   n_iter=8, n_jobs=-1,\n",
       "                   param_distributions={&#x27;colsample_bytree&#x27;: [0.8, 0.9, 1.0],\n",
       "                                        &#x27;learning_rate&#x27;: [0.1, 0.01, 0.001],\n",
       "                                        &#x27;max_depth&#x27;: [3, 6, 9],\n",
       "                                        &#x27;min_child_samples&#x27;: [10, 20, 30],\n",
       "                                        &#x27;n_estimators&#x27;: [100, 500, 1000],\n",
       "                                        &#x27;num_leaves&#x27;: [31, 63, 127],\n",
       "                                        &#x27;reg_alpha&#x27;: [0, 0.1, 0.5],\n",
       "                                        &#x27;reg_lambda&#x27;: [0, 0.1, 0.5],\n",
       "                                        &#x27;subsample&#x27;: [0.8, 0.9, 1.0]},\n",
       "                   scoring=&#x27;roc_auc&#x27;, verbose=True)</pre></div></div></div><div class=\"sk-parallel\"><div class=\"sk-parallel-item\"><div class=\"sk-item\"><div class=\"sk-label-container\"><div class=\"sk-label sk-toggleable\"><input class=\"sk-toggleable__control sk-hidden--visually\" id=\"sk-estimator-id-2\" type=\"checkbox\" ><label for=\"sk-estimator-id-2\" class=\"sk-toggleable__label sk-toggleable__label-arrow\">estimator: XGBClassifier</label><div class=\"sk-toggleable__content\"><pre>XGBClassifier(base_score=None, booster=None, callbacks=None,\n",
       "              colsample_bylevel=None, colsample_bynode=None,\n",
       "              colsample_bytree=None, early_stopping_rounds=None,\n",
       "              enable_categorical=False, eval_metric=None, feature_types=None,\n",
       "              gamma=None, gpu_id=None, grow_policy=None, importance_type=None,\n",
       "              interaction_constraints=None, learning_rate=None, max_bin=None,\n",
       "              max_cat_threshold=None, max_cat_to_onehot=None,\n",
       "              max_delta_step=None, max_depth=None, max_leaves=None,\n",
       "              min_child_weight=None, missing=nan, monotone_constraints=None,\n",
       "              n_estimators=100, n_jobs=None, num_parallel_tree=None,\n",
       "              predictor=None, random_state=None, ...)</pre></div></div></div><div class=\"sk-serial\"><div class=\"sk-item\"><div class=\"sk-estimator sk-toggleable\"><input class=\"sk-toggleable__control sk-hidden--visually\" id=\"sk-estimator-id-3\" type=\"checkbox\" ><label for=\"sk-estimator-id-3\" class=\"sk-toggleable__label sk-toggleable__label-arrow\">XGBClassifier</label><div class=\"sk-toggleable__content\"><pre>XGBClassifier(base_score=None, booster=None, callbacks=None,\n",
       "              colsample_bylevel=None, colsample_bynode=None,\n",
       "              colsample_bytree=None, early_stopping_rounds=None,\n",
       "              enable_categorical=False, eval_metric=None, feature_types=None,\n",
       "              gamma=None, gpu_id=None, grow_policy=None, importance_type=None,\n",
       "              interaction_constraints=None, learning_rate=None, max_bin=None,\n",
       "              max_cat_threshold=None, max_cat_to_onehot=None,\n",
       "              max_delta_step=None, max_depth=None, max_leaves=None,\n",
       "              min_child_weight=None, missing=nan, monotone_constraints=None,\n",
       "              n_estimators=100, n_jobs=None, num_parallel_tree=None,\n",
       "              predictor=None, random_state=None, ...)</pre></div></div></div></div></div></div></div></div></div></div>"
      ],
      "text/plain": [
       "RandomizedSearchCV(cv=3,\n",
       "                   estimator=XGBClassifier(base_score=None, booster=None,\n",
       "                                           callbacks=None,\n",
       "                                           colsample_bylevel=None,\n",
       "                                           colsample_bynode=None,\n",
       "                                           colsample_bytree=None,\n",
       "                                           early_stopping_rounds=None,\n",
       "                                           enable_categorical=False,\n",
       "                                           eval_metric=None, feature_types=None,\n",
       "                                           gamma=None, gpu_id=None,\n",
       "                                           grow_policy=None,\n",
       "                                           importance_type=None,\n",
       "                                           interaction_constraints=None,\n",
       "                                           learning_rate...\n",
       "                                           predictor=None, random_state=None, ...),\n",
       "                   n_iter=8, n_jobs=-1,\n",
       "                   param_distributions={'colsample_bytree': [0.8, 0.9, 1.0],\n",
       "                                        'learning_rate': [0.1, 0.01, 0.001],\n",
       "                                        'max_depth': [3, 6, 9],\n",
       "                                        'min_child_samples': [10, 20, 30],\n",
       "                                        'n_estimators': [100, 500, 1000],\n",
       "                                        'num_leaves': [31, 63, 127],\n",
       "                                        'reg_alpha': [0, 0.1, 0.5],\n",
       "                                        'reg_lambda': [0, 0.1, 0.5],\n",
       "                                        'subsample': [0.8, 0.9, 1.0]},\n",
       "                   scoring='roc_auc', verbose=True)"
      ]
     },
     "execution_count": 48,
     "metadata": {},
     "output_type": "execute_result"
    }
   ],
   "source": [
    "search_hp.fit(X_train,y_train)"
   ]
  },
  {
   "cell_type": "code",
   "execution_count": 49,
   "metadata": {},
   "outputs": [
    {
     "data": {
      "text/plain": [
       "{'subsample': 0.9,\n",
       " 'reg_lambda': 0,\n",
       " 'reg_alpha': 0.5,\n",
       " 'num_leaves': 31,\n",
       " 'n_estimators': 100,\n",
       " 'min_child_samples': 30,\n",
       " 'max_depth': 6,\n",
       " 'learning_rate': 0.1,\n",
       " 'colsample_bytree': 0.9}"
      ]
     },
     "execution_count": 49,
     "metadata": {},
     "output_type": "execute_result"
    }
   ],
   "source": [
    "search_hp.best_params_"
   ]
  },
  {
   "cell_type": "code",
   "execution_count": 51,
   "metadata": {},
   "outputs": [
    {
     "data": {
      "text/plain": [
       "0.9108489961955266"
      ]
     },
     "execution_count": 51,
     "metadata": {},
     "output_type": "execute_result"
    }
   ],
   "source": [
    "search_hp.best_score_"
   ]
  },
  {
   "cell_type": "code",
   "execution_count": 50,
   "metadata": {},
   "outputs": [
    {
     "name": "stdout",
     "output_type": "stream",
     "text": [
      "[15:58:37] WARNING: C:\\buildkite-agent\\builds\\buildkite-windows-cpu-autoscaling-group-i-07593ffd91cd9da33-1\\xgboost\\xgboost-ci-windows\\src\\learner.cc:767: \n",
      "Parameters: { \"num_leaves\" } are not used.\n",
      "\n"
     ]
    }
   ],
   "source": [
    "model = XGBClassifier(subsample=0.9, \n",
    "    reg_lambda=0,\n",
    "    reg_alpha=0.5,\n",
    "    n_estimators=100,\n",
    "    min_child_weight=30,\n",
    "    max_depth=6,\n",
    "    learning_rate=0.1,\n",
    "    colsample_bytree=0.9).fit(X_train, y_train)"
   ]
  },
  {
   "attachments": {},
   "cell_type": "markdown",
   "metadata": {},
   "source": [
    "# TEST"
   ]
  },
  {
   "attachments": {},
   "cell_type": "markdown",
   "metadata": {},
   "source": [
    "\n",
    "*   **AUC**"
   ]
  },
  {
   "cell_type": "code",
   "execution_count": 52,
   "metadata": {},
   "outputs": [],
   "source": [
    "y_train_pred_proba = model.predict_proba(X_train)[:,1]\n",
    "y_test_pred_proba = model.predict_proba(X_test)[:,1]"
   ]
  },
  {
   "cell_type": "code",
   "execution_count": 53,
   "metadata": {},
   "outputs": [],
   "source": [
    "# AUC Metricas\n",
    "auc_train = roc_auc_score(y_train, y_train_pred_proba)\n",
    "auc_test = roc_auc_score(y_test, y_test_pred_proba)"
   ]
  },
  {
   "cell_type": "code",
   "execution_count": 54,
   "metadata": {},
   "outputs": [
    {
     "name": "stdout",
     "output_type": "stream",
     "text": [
      "AUC Train:  0.9036\n",
      "AUC Test:  0.8647\n"
     ]
    }
   ],
   "source": [
    "print('AUC Train: ', round(auc_train, 4))\n",
    "print('AUC Test: ', round(auc_test, 4))"
   ]
  },
  {
   "attachments": {},
   "cell_type": "markdown",
   "metadata": {},
   "source": [
    "*   **ROC Curve**"
   ]
  },
  {
   "cell_type": "code",
   "execution_count": 55,
   "metadata": {},
   "outputs": [],
   "source": [
    "y_train_pred = model.predict(X_train)\n",
    "y_test_pred = model.predict(X_test)"
   ]
  },
  {
   "cell_type": "code",
   "execution_count": 56,
   "metadata": {},
   "outputs": [],
   "source": [
    "fpr_train, tpr_train, _ = roc_curve(y_train, y_train_pred_proba)\n",
    "fpr_test, tpr_test, _ = roc_curve(y_test, y_test_pred_proba)"
   ]
  },
  {
   "cell_type": "code",
   "execution_count": 57,
   "metadata": {},
   "outputs": [
    {
     "data": {
      "image/png": "[encoded data removed]",
      "text/plain": [
       "<Figure size 1000x800 with 1 Axes>"
      ]
     },
     "metadata": {},
     "output_type": "display_data"
    }
   ],
   "source": [
    "#Plot\n",
    "plt.figure(figsize=[10,8])\n",
    "plt.plot(fpr_train, tpr_train, label='TRAIN - AUC: {:.4f}'.format(auc_train))\n",
    "plt.plot(fpr_test, tpr_test, label='TEST - AUC: {:.4f}'.format(auc_test))\n",
    "plt.title('ROC Curve')\n",
    "plt.plot([0,0,1],[0,1,1], color='green', linestyle='--', linewidth=0.5, label='Ideal')\n",
    "plt.plot([0, 1], [0, 1], color='black', linestyle='--', linewidth=0.5, label='Random')\n",
    "plt.xlabel('False Positive Rate')\n",
    "plt.ylabel('True Positive Rate')\n",
    "plt.legend(loc=\"lower right\")\n",
    "plt.show()"
   ]
  },
  {
   "attachments": {},
   "cell_type": "markdown",
   "metadata": {},
   "source": [
    "Como vemos, aunque este modelo presenta cierto overfitting (debido al hecho de haber hecho oversampling sobre el dataset de entrenamiento), no es tan exagerado como con otro modelos que se han probado. "
   ]
  },
  {
   "attachments": {},
   "cell_type": "markdown",
   "metadata": {},
   "source": [
    "*   **Confusion Matrix**"
   ]
  },
  {
   "cell_type": "code",
   "execution_count": 60,
   "metadata": {},
   "outputs": [
    {
     "data": {
      "text/plain": [
       "[]"
      ]
     },
     "execution_count": 60,
     "metadata": {},
     "output_type": "execute_result"
    },
    {
     "data": {
      "image/png": "[encoded data removed]",
      "text/plain": [
       "<Figure size 640x480 with 1 Axes>"
      ]
     },
     "metadata": {},
     "output_type": "display_data"
    }
   ],
   "source": [
    "cm_test = confusion_matrix(y_test, y_test_pred)\n",
    "\n",
    "ConfusionMatrixDisplay(confusion_matrix=cm_test/len(y_test)).plot(colorbar = False, cmap = 'Blues')\n",
    "plt.title('Confusion Matrix TEST (%)')\n",
    "plt.plot()"
   ]
  },
  {
   "attachments": {},
   "cell_type": "markdown",
   "metadata": {},
   "source": [
    "*   **Accuracy, Precision, Recall y F1-Score**"
   ]
  },
  {
   "cell_type": "code",
   "execution_count": 61,
   "metadata": {},
   "outputs": [
    {
     "name": "stdout",
     "output_type": "stream",
     "text": [
      "Accuracy: 0.7841\n",
      "Precision: 0.3562\n",
      "Recall: 0.8181\n",
      "F1-score: 0.4963\n"
     ]
    }
   ],
   "source": [
    "# Accuracy, Precision, Recall and F1-Score\n",
    "\n",
    "print('Accuracy:', round( accuracy_score(y_test, y_test_pred),4))\n",
    "print('Precision:', round( precision_score(y_test, y_test_pred), 4))\n",
    "print('Recall:', round( recall_score(y_test, y_test_pred), 4))\n",
    "print('F1-score:', round(f1_score(y_test, y_test_pred), 4))"
   ]
  },
  {
   "attachments": {},
   "cell_type": "markdown",
   "metadata": {},
   "source": [
    "# Interpretability"
   ]
  },
  {
   "attachments": {},
   "cell_type": "markdown",
   "metadata": {},
   "source": [
    "Con estas gráficas podemos ver la importancia de las diferentes *features* en nuestro modelo. Si analizamos las 4 *features* más importantes vemos que los resultados tienen bastante sentido.\n",
    "\n",
    "La *feature* más importante es **'Country_PRT'**. Este país es el más frecuente en el dataset, presentando muchas reservas y cancelaciones.\n",
    "\n",
    "La siguiente *feature* es **'LeadTime'**. Esto se debe a que las reservas hechas con poca antelación no suelen cancelarse.\n",
    "\n",
    "La siguiente *feature* es **'ArrivalYear'**. Como vimos en el análisis de variables, en el año 2017 se producía un aumento de cancelaciones. Por ello, esta variable presenta un patrón distintivo a la hora de detectar si se va a producir una cancelación o no.\n",
    "\n",
    "La siguiente *feature* es **'ADR'**, el precio medio de reserva. "
   ]
  },
  {
   "cell_type": "code",
   "execution_count": 62,
   "metadata": {},
   "outputs": [
    {
     "data": {
      "image/png": "[encoded data removed]",
      "text/plain": [
       "<Figure size 1100x800 with 1 Axes>"
      ]
     },
     "metadata": {},
     "output_type": "display_data"
    }
   ],
   "source": [
    "explainer = shap.TreeExplainer(model)\n",
    "shap_values = explainer.shap_values(X_test)\n",
    "shap.summary_plot(shap_values, X_test, plot_type=\"bar\", max_display=20, plot_size=(11, 8))"
   ]
  }
 ],
 "metadata": {
  "kernelspec": {
   "display_name": "Python 3",
   "language": "python",
   "name": "python3"
  },
  "language_info": {
   "codemirror_mode": {
    "name": "ipython",
    "version": 3
   },
   "file_extension": ".py",
   "mimetype": "text/x-python",
   "name": "python",
   "nbconvert_exporter": "python",
   "pygments_lexer": "ipython3",
   "version": "3.10.10"
  },
  "orig_nbformat": 4
 },
 "nbformat": 4,
 "nbformat_minor": 2
}
